{
 "cells": [
  {
   "cell_type": "markdown",
   "metadata": {},
   "source": [
    "## Visualize and Analyze EDX data"
   ]
  },
  {
   "cell_type": "code",
   "execution_count": 2,
   "metadata": {},
   "outputs": [],
   "source": [
    "from functions import *"
   ]
  },
  {
   "cell_type": "markdown",
   "metadata": {},
   "source": [
    "#### visualize quickly a map - only works if you have coordinates written"
   ]
  },
  {
   "cell_type": "code",
   "execution_count": null,
   "metadata": {},
   "outputs": [],
   "source": [
    "folder = r\"O:\\Nlab\\Public\\DCH-plasma\\phosphosulfides_students\\Students\\Giulia\\01_Characterization\\layerprobe\\anait_0001_BaS_Zr\"\n",
    "filepath = os.path.join(folder, \"anait_0001_BR.xlsx\")\n",
    "new_heatmap(\"Layer 1 Ba Atomic %\", filepath=filepath, title = \"anait_0001_BR\", \n",
    "#savepath = os.path.join(folder, \"test.html\")\n",
    ")"
   ]
  },
  {
   "cell_type": "markdown",
   "metadata": {},
   "source": [
    "#### rename SE images, if needed"
   ]
  },
  {
   "cell_type": "code",
   "execution_count": null,
   "metadata": {},
   "outputs": [],
   "source": [
    "# folderpath= r\"Z:\\P110143-phosphosulfides-Andrea\\Data\\Samples\\mittma_0023_Cu\\EDX\\mittma_0023_FL\"\n",
    "rename_SE_images(folderpath)"
   ]
  },
  {
   "cell_type": "markdown",
   "metadata": {},
   "source": [
    "### Add coordinates to excel files"
   ]
  },
  {
   "cell_type": "code",
   "execution_count": null,
   "metadata": {},
   "outputs": [],
   "source": [
    "folder= r\"Z:\\P110143-phosphosulfides-Andrea\\Data\\Samples\\mittma_0022_Cu\\EDX\\excels\"\n",
    "filename= \"mittma_0022_BL\" # without extension\n",
    "\n",
    "# if no coordinates were written for this file, but only magnification, spacing, nrow, ncolumns - returns coordinates in the sample\n",
    "#EDX_coordinates(folder, filename, edge=4)\n",
    "\n",
    "# if coordinates for 3 points were written, and you want the stage coordinates (for uploading to nomad)\n",
    "#EDX_stage_coords(folder, filename)\n",
    "\n",
    "#if coordinates for 3 points were written, and you want the sample coordinates (for further processing locally)\n",
    "EDX_sample_coords(folder, filename)\n",
    "\n",
    "#if all coordinates were written, and you want to translate them to sample coordinates (for further processing locally)\n",
    "#lp_translate_excel(folder, filename) "
   ]
  },
  {
   "cell_type": "code",
   "execution_count": null,
   "metadata": {},
   "outputs": [],
   "source": [
    "#if more files are done at the same time, and you want to translate them all\n",
    "folder= r\"Z:\\P110143-phosphosulfides-Andrea\\Data\\Samples\\anait_0005_Ba\\EDS\"\n",
    "sample = \"anait_0005_Ba\"\n",
    "pos = [ \"BR\",\n",
    "        #\"FR\",\n",
    "        #\"FL\", \n",
    "        \"BL\"\n",
    "        ]\n",
    "names = [sample+\"_\"+p for p in pos]\n",
    "\n",
    "# for i in range(0,len(pos)): #uncomment the one you need\n",
    "for name in names:\n",
    "    # EDX_coordinates(folder, name, edge=4)\n",
    "#   EDX_stage_coords(folder, name)\n",
    "    EDX_sample_coords(folder, name)\n",
    "    # lp_translate_excel(folder, name)"
   ]
  },
  {
   "cell_type": "markdown",
   "metadata": {},
   "source": [
    "### loading data from excels file"
   ]
  },
  {
   "cell_type": "code",
   "execution_count": 22,
   "metadata": {},
   "outputs": [],
   "source": [
    "folder= r\"Z:\\P110143-phosphosulfides-Andrea\\Data\\Samples\\mittma_0022_Cu\\EDX\\excels\"\n",
    "sample_n = 23\n",
    "\n",
    "sample = \"mittma_0022\"\n",
    "pos = [ \"BR\",\n",
    "        \"FR\",\n",
    "        # \"FL\", \n",
    "        \"BL\"\n",
    "        ]\n",
    "names = [sample+\"_\"+p for p in pos]"
   ]
  },
  {
   "cell_type": "markdown",
   "metadata": {},
   "source": [
    "load the data"
   ]
  },
  {
   "cell_type": "code",
   "execution_count": null,
   "metadata": {},
   "outputs": [],
   "source": [
    "datas = [pd.DataFrame() for _ in pos]\n",
    "\n",
    "for i in range(0,len(pos)):\n",
    "    file = sample+\"_\"+pos[i]+\"_sample_coords.xlsx\" #change to coords, sample_coords, stage_coords, translated as needed\n",
    "    filepath = os.path.join(folder, file)\n",
    "    grid = measurement_grid(200,200,38,38,-19,-19)\n",
    "    datas[i], coords = read_layerprobe(filepath, grid, sheetname=\"Sheet1\")\n",
    "    plt.figure()\n",
    "    plot_grid(coords, grid)\n",
    "\n",
    "data__BR, coords_BR = translate_data(datas[0], 20,20)\n",
    "data__FR, coords_FR = translate_data(datas[1], 20,-20)\n",
    "# data__FL, coords_FL = translate_data(datas[2], -20,-20)\n",
    "data__BL, coords_BL = translate_data(datas[2], -20,20)\n",
    "\n",
    "data = combine_data(( data__BR,\n",
    "                    data__FR,\n",
    "                    #  data__FL, \n",
    "                      data__BL\n",
    "                    ))\n",
    "data0= data.copy()\n",
    "\n"
   ]
  },
  {
   "cell_type": "markdown",
   "metadata": {},
   "source": [
    "#### add a column with sample ID to the data, and export to pickles\n"
   ]
  },
  {
   "cell_type": "code",
   "execution_count": null,
   "metadata": {},
   "outputs": [],
   "source": [
    "# headerlength = len(data0.columns.get_level_values(1).unique())\n",
    "# k=0\n",
    "# data = data0.copy()\n",
    "# for i in range(0, len(data.columns.get_level_values(0).unique())):\n",
    "#     #print(data.columns.get_level_values(0).unique()[i])\n",
    "#     data.insert(headerlength*(i+1)+k, \"{}\".format(data.columns.get_level_values(0).unique()[i]), sample_n, allow_duplicates=True)\n",
    "#     data.rename(columns={'': 'Sample ID'}, inplace = True)\n",
    "#     k=k+1\n",
    "# new_data = data.copy()\n",
    "# print(data.columns.get_level_values(1))\n",
    "# display(new_data)"
   ]
  },
  {
   "cell_type": "code",
   "execution_count": null,
   "metadata": {},
   "outputs": [],
   "source": [
    "sample_dict = {'Sample ID': [sample_n]*len(data.columns.get_level_values(0).unique())}\n",
    "sample_df = add_info(data0, sample_dict)\n",
    "\n",
    "display(sample_df)"
   ]
  },
  {
   "cell_type": "code",
   "execution_count": 10,
   "metadata": {},
   "outputs": [],
   "source": [
    "#%% ------------------export pickle to use elsewhere ---------------------\n",
    "\n",
    "pickle_path = r\"Z:\\P110143-phosphosulfides-Andrea\\Data\\Analysis\\guidal\\mittma_pickles\" # change to your pickle path\n",
    "with open(os.path.join(pickle_path, sample+\"_EDS.pkl\"), 'wb') as f:\n",
    "    pickle.dump(sample_df, f)"
   ]
  },
  {
   "cell_type": "markdown",
   "metadata": {},
   "source": [
    "#### plot heatmaps for the whole sample (combined)"
   ]
  },
  {
   "cell_type": "code",
   "execution_count": null,
   "metadata": {},
   "outputs": [],
   "source": [
    "#plot for the whole sample\n",
    "datatypes=[\"Layer 1 Thickness (nm)\", \"Layer 1 Cu Atomic %\", \"Layer 1 P Atomic %\", \"Layer 1 S Atomic %\"] \n",
    "for datatype in datatypes:\n",
    "    savepath = os.path.join(folder, f\"{sample} {datatype}.png\")\n",
    "    new_heatmap(datatype, data=data0, title = f\"{sample} {datatype}\",\n",
    "        #     exclude=['-36.9,35.37','35.37,-23.53'],\n",
    "    savepath=savepath,\n",
    "     )"
   ]
  },
  {
   "cell_type": "code",
   "execution_count": null,
   "metadata": {},
   "outputs": [],
   "source": [
    "# calculate ratios\n",
    "# data0= math_on_columns(data0, \"Layer 1 Ba Atomic %\", \"Layer 1 P Atomic %\", \"/\")\n",
    "# data0.rename(columns={'Layer 1 Ba Atomic % / Layer 1 P Atomic %': 'Ba/P'}, inplace=True)\n",
    "# display(data0)\n",
    "\n",
    "data_1= math_on_columns(data0, \"Layer 1 S Atomic %\", \"Layer 1 P Atomic %\", \"/\")\n",
    "data_1.rename(columns={'Layer 1 S Atomic % / Layer 1 P Atomic %': 'S/P'}, inplace=True)\n",
    "data_1= math_on_columns(data_1, \"Layer 1 S Atomic %\", \"Layer 1 Cu Atomic %\", \"/\")\n",
    "data_1.rename(columns={'Layer 1 S Atomic % / Layer 1 Cu Atomic %': 'S/Cu'}, inplace=True)\n",
    "data_1= math_on_columns(data_1, \"Layer 1 P Atomic %\", \"Layer 1 Cu Atomic %\", \"/\")\n",
    "data_1.rename(columns={'Layer 1 P Atomic % / Layer 1 Cu Atomic %': 'P/Cu'}, inplace=True)\n",
    "data_1= math_on_columns(data_1, \"Layer 1 Cu Atomic %\", \"Layer 1 Thickness (nm)\", \"/\")\n",
    "data_1.rename(columns={'Layer 1 Cu Atomic % / Layer 1 Thickness (nm)': 'Cu/Thickness'}, inplace=True)\n",
    "data_1= math_on_columns(data_1, \"Layer 1 S Atomic %\", \"Layer 1 Thickness (nm)\", \"/\")\n",
    "data_1.rename(columns={'Layer 1 S Atomic % / Layer 1 Thickness (nm)': 'S/Thickness'}, inplace=True)\n",
    "data_1= math_on_columns(data_1, \"Layer 1 P Atomic %\", \"Layer 1 Thickness (nm)\", \"/\")\n",
    "data_1.rename(columns={'Layer 1 P Atomic % / Layer 1 Thickness (nm)': 'P/Thickness'}, inplace=True)\n",
    "display(data_1)\n",
    "# print(data_1.columns.get_level_values(0).unique())"
   ]
  },
  {
   "cell_type": "code",
   "execution_count": null,
   "metadata": {},
   "outputs": [],
   "source": [
    "os.makedirs(os.path.join(folder, \"ratios\"), exist_ok=True)\n",
    "to_plot= [\"S/P\",\"S/Cu\", \"P/Cu\", \"Cu/Thickness\", \"S/Thickness\", \"P/Thickness\"]\n",
    "names = ['S_P_ratio', 'S_Cu_ratio','P_Cu_ratio',  'Cu_Thickness_ratio', 'S_Thickness_ratio', 'P_Thickness_ratio']\n",
    "for i in range (0, len(to_plot)):\n",
    "    datatype = to_plot[i]\n",
    "    name = names[i]\n",
    "    savepath = os.path.join(folder,'ratios', f\"{sample} {name}.png\")\n",
    "    new_heatmap(datatype, data=data_1, title = f\"{sample} {datatype}\",\n",
    "            exclude=['35.37,2.34', '35.37,9.59'],\n",
    "    savepath=savepath,\n",
    "     )\n",
    "    \n",
    "\n",
    "# savepath = os.path.join(folder, f\"{sample}_B_P_ratio.html\")\n",
    "# new_heatmap('Ba/P', data=data0, title = f\"{sample} Ba/P \",\n",
    "#     savepath=savepath,\n",
    "#      )"
   ]
  },
  {
   "cell_type": "markdown",
   "metadata": {},
   "source": [
    "#### plot a heatmap for each single sample"
   ]
  },
  {
   "cell_type": "code",
   "execution_count": null,
   "metadata": {},
   "outputs": [],
   "source": [
    "#plot for single samples\n",
    "datatypes=[\"Layer 1 Thickness (nm)\", \"Layer 1 Cu Atomic %\", \"Layer 1 P Atomic %\", \"Layer 1 S Atomic %\"] \n",
    "#exclude= ['-16.14,-18.24']\n",
    "\n",
    "for i in range(len(datas)): \n",
    "    for datatype in datatypes:\n",
    "        savepath = os.path.join(folder,\"plots\", f\"{sample}_{pos[i]} {datatype}.png\")\n",
    "        new_heatmap(datatype, data=datas[i], title = f\"{sample}_{pos[i]} {datatype}\",\n",
    "        savepath=savepath,\n",
    "        #exclude =exclude\n",
    "        )"
   ]
  },
  {
   "cell_type": "code",
   "execution_count": null,
   "metadata": {},
   "outputs": [],
   "source": [
    "data_FL = math_on_columns(datas[1], \"Layer 1 P Atomic %\", \"Layer 1 S Atomic %\", \"/\")\n",
    "data_FL.rename(columns={'Layer 1 P Atomic % / Layer 1 S Atomic %': 'Bulk P/S ratio '}, inplace = True)\n",
    "data_FL = math_on_columns(data_FL, \"Layer 1 P Atomic %\", \"Layer 1 S Atomic %\", \"+\")\n",
    "data_FL = math_on_columns(data_FL, \"Layer 1 Cu Atomic %\", \"Layer 1 P Atomic % + Layer 1 S Atomic %\", \"/\")\n",
    "data_FL.rename(columns={'Layer 1 Cu Atomic % / Layer 1 P Atomic % + Layer 1 S Atomic %': 'Bulk Cu/anions ratio'}, inplace = True)\n",
    "\n",
    "display(data_FL)\n",
    "new_heatmap(\"Bulk Cu/anions ratio\", data=data_FL, title = f\"{sample}_FL Bulk Cu/anions ratio\",savepath= os.path.join(folderpath, f\"{sample}_FL Bulk Cu_anions ratio.png\"))"
   ]
  },
  {
   "cell_type": "markdown",
   "metadata": {},
   "source": [
    "### code in progress"
   ]
  },
  {
   "cell_type": "markdown",
   "metadata": {},
   "source": [
    "Load .txt file with SE image details into an image_dict. \n",
    "May be useful if you again copy image info"
   ]
  },
  {
   "cell_type": "code",
   "execution_count": 64,
   "metadata": {},
   "outputs": [
    {
     "name": "stdout",
     "output_type": "stream",
     "text": [
      "{1: [-14.587, -15.856], 2: [-14.545, -9.252], 6: [-14.381, 17.161], 7: [-4.982, -15.916], 8: [-4.94, -9.312], 19: [14.228, -16.036], 24: [14.434, 16.982]}\n"
     ]
    }
   ],
   "source": [
    "file_path = r\"Z:\\P110143-phosphosulfides-Andrea\\Data\\Samples\\anait_0004_Ba\\EDX\\anait_0004_BL\\coordinates.txt\"\n",
    "# Initialize a dictionary to store the data\n",
    "image_dict = {}\n",
    "\n",
    "# Regular expressions to capture the relevant lines\n",
    "image_pattern = re.compile(r'Label:\\s*Electron Image (\\d+)')\n",
    "stage_x_pattern = re.compile(r'Stage X:\\s*([-+]?[0-9]*\\.?[0-9]+)mm')\n",
    "stage_y_pattern = re.compile(r'Stage Y:\\s*([-+]?[0-9]*\\.?[0-9]+)mm')\n",
    "\n",
    "# Variables to temporarily store the current image and its coordinates\n",
    "current_image = None\n",
    "x_coordinate = None\n",
    "y_coordinate = None\n",
    "\n",
    "# Read the file and extract the data\n",
    "with open(file_path, 'r') as file:\n",
    "    for line in file:\n",
    "        # Find image number\n",
    "        image_match = image_pattern.search(line)\n",
    "        if image_match:\n",
    "            # If we have a previous image and its coordinates, store them in the dictionary\n",
    "            if current_image is not None and x_coordinate is not None and y_coordinate is not None:\n",
    "                image_dict[current_image] = [x_coordinate, y_coordinate]\n",
    "\n",
    "            # Start a new image\n",
    "            current_image = int(image_match.group(1))\n",
    "            x_coordinate = None\n",
    "            y_coordinate = None\n",
    "\n",
    "        # Find Stage X\n",
    "        stage_x_match = stage_x_pattern.search(line)\n",
    "        if stage_x_match:\n",
    "            x_coordinate = float(stage_x_match.group(1))\n",
    "\n",
    "        # Find Stage Y\n",
    "        stage_y_match = stage_y_pattern.search(line)\n",
    "        if stage_y_match:\n",
    "            y_coordinate = float(stage_y_match.group(1))\n",
    "\n",
    "    # Store the last image and its coordinates after exiting the loop\n",
    "    if current_image is not None and x_coordinate is not None and y_coordinate is not None:\n",
    "        image_dict[current_image] = [x_coordinate, y_coordinate]\n",
    "\n",
    "# Show the dictionary\n",
    "print(image_dict)\n"
   ]
  },
  {
   "cell_type": "code",
   "execution_count": 65,
   "metadata": {},
   "outputs": [],
   "source": [
    "# save info from images 1-2-7\n",
    "ncolumns = 4\n",
    "nrows = 6\n",
    "mag= 30000\n",
    "\n",
    "#accurate \"grid vectors\"\n",
    "a = [image_dict[7][0] - image_dict[1][0], image_dict[7][1] - image_dict[1][1]]\n",
    "b = [image_dict[2][0] - image_dict[1][0], image_dict[2][1] - image_dict[1][1]]\n",
    "\n",
    "# grid vectors from first corner\n",
    "space_x = image_dict[7][0] - image_dict[1][0]\n",
    "space_y = image_dict[2][1] - image_dict[1][1]\n",
    "\n",
    "#grid vectors from furthest points\n",
    "spacing_x = (image_dict[19][0] - image_dict[1][0])/(ncolumns-1)\n",
    "spacing_y = (image_dict[6][1] - image_dict[1][1])/(nrows-1)\n",
    "\n",
    "#grid vector from point 24, making a square\n",
    "size_x = image_dict[24][0] - image_dict[1][0]\n",
    "size_y = image_dict[24][1] - image_dict[1][1]\n",
    "spacex_div = size_x/(ncolumns-1)\n",
    "spacey_div = size_y/(nrows-1)\n",
    "\n",
    "startx= image_dict[1][0]\n",
    "starty= image_dict[1][1]\n",
    "\n",
    "area_x = 13.7*30/mag\n",
    "area_y = 9.4*30/mag\n",
    "\n",
    "x,y=[],[]\n",
    "for key in image_dict:\n",
    "    x.append(image_dict[key][0])\n",
    "    y.append(image_dict[key][1])\n"
   ]
  },
  {
   "cell_type": "code",
   "execution_count": 66,
   "metadata": {},
   "outputs": [],
   "source": [
    "\n",
    "def get_coords(A,B, startx, starty, ncolumns, nrows):\n",
    "    coord_x = np.round(np.linspace(startx,startx+A*(ncolumns-1), ncolumns), 2)\n",
    "    coord_y = np.round(np.linspace(starty, starty+B*(nrows-1), nrows), 2)\n",
    "    X=[]\n",
    "    Y=[]\n",
    "    for j in range(0, ncolumns):\n",
    "        for i in range(0, nrows):\n",
    "            Y.append(coord_y[i])\n",
    "            X.append(coord_x[j])\n",
    "    return X,Y\n",
    "\n",
    "X_1619,Y_1619 = get_coords(spacing_x,spacing_y, startx, starty, ncolumns, nrows)\n",
    "X_127,Y_127 = get_coords(space_x,space_y, startx, starty, ncolumns, nrows)\n",
    "X_24,Y_24 = get_coords(spacex_div,spacey_div, startx, starty, ncolumns, nrows)"
   ]
  },
  {
   "cell_type": "code",
   "execution_count": 68,
   "metadata": {},
   "outputs": [
    {
     "data": {
      "text/plain": [
       "Text(0, 0.5, 'Y coordinate (mm)')"
      ]
     },
     "execution_count": 68,
     "metadata": {},
     "output_type": "execute_result"
    },
    {
     "data": {
      "image/png": "[encoded data removed]",
      "text/plain": [
       "<Figure size 640x480 with 1 Axes>"
      ]
     },
     "metadata": {},
     "output_type": "display_data"
    }
   ],
   "source": [
    "#plt.scatter(X_1619, Y_1619, color='green', label=\"Calculated from furthest points\", s=100)\n",
    "plt.scatter(x, y, color='blue', label=\"Measured\", s=100)\n",
    "plt.scatter(X_127, Y_127, color='red', marker='*', label=\"Calculated from images 1-2-7\", s=100) # as in EDX_stage_coords\n",
    "#plt.scatter(X_24, Y_24, color='pink', marker='x', label=\"Calculated from image 24\", s=50)\n",
    "plt.legend(bbox_to_anchor=(1.05, 1), loc='upper left', borderaxespad=0.)\n",
    "plt.xlabel(\"X coordinate (mm)\")\n",
    "plt.ylabel(\"Y coordinate (mm)\")"
   ]
  },
  {
   "cell_type": "code",
   "execution_count": null,
   "metadata": {},
   "outputs": [],
   "source": [
    "folder= r\"C:\\Users\\s222531\\OneDrive - Danmarks Tekniske Universitet\\MASTER_PROJECT_PHOSPHOSULFIDES\\results\\anait_0004_Ba\"\n",
    "filename= \"anait_0004_BR\"\n",
    "\n",
    "EDX_stage_coords(folder,filename)\n",
    "\n",
    "EDX_sample_coords(folder,filename)"
   ]
  },
  {
   "cell_type": "code",
   "execution_count": null,
   "metadata": {},
   "outputs": [],
   "source": []
  },
  {
   "cell_type": "markdown",
   "metadata": {},
   "source": [
    "##### get statistics"
   ]
  },
  {
   "cell_type": "code",
   "execution_count": null,
   "metadata": {},
   "outputs": [],
   "source": [
    "def stats(data_all, type):\n",
    "    data = get_data(data_all, type = type)\n",
    "    data = data.sort_values(by = 0, axis=1 )\n",
    "    min_= data.iloc[0,0]\n",
    "    max_ = data.iloc[0,-1]\n",
    "    mean_ = data.mean(axis=1)[0]\n",
    "\n",
    "    data = pd.DataFrame([min_, max_, mean_], index = [\"min\",\"max\", \"mean\"])\n",
    "    return data\n",
    "\n",
    "S = get_data(data, type = \"Layer 1 S Atomic %\")\n",
    "S=S.sort_values(by = 0, axis=1 )\n",
    "\n",
    "S_min= S.iloc[0,0]\n",
    "S_max = S.iloc[0,-1]\n",
    "S_mean = S.mean(axis=1)[0]\n",
    "\n",
    "S_data = pd.DataFrame([ S_min, S_max, S_mean,], index = [\"min\",\"max\", \"mean\"])\n"
   ]
  },
  {
   "cell_type": "code",
   "execution_count": null,
   "metadata": {},
   "outputs": [],
   "source": [
    "Cu_data = stats(data, \"Layer 1 Cu Atomic %\")\n",
    "P_data = stats(data, \"Layer 1 P Atomic %\")\n",
    "S_data = stats(data, \"Layer 1 S Atomic %\")\n",
    "\n",
    "results = pd.concat([Cu_data, P_data, S_data], axis=1)\n",
    "results.columns = [\"Cu\", \"P\", \"S\"]\n",
    "\n",
    "ratio0 = results.loc[\"mean\", \"Cu\"]/results.loc[\"mean\", \"P\"]\n",
    "ratio2 = results.loc[\"mean\", \"S\"]/results.loc[\"mean\", \"P\"]"
   ]
  }
 ],
 "metadata": {
  "kernelspec": {
   "display_name": "base",
   "language": "python",
   "name": "python3"
  },
  "language_info": {
   "codemirror_mode": {
    "name": "ipython",
    "version": 3
   },
   "file_extension": ".py",
   "mimetype": "text/x-python",
   "name": "python",
   "nbconvert_exporter": "python",
   "pygments_lexer": "ipython3",
   "version": "3.11.7"
  }
 },
 "nbformat": 4,
 "nbformat_minor": 2
}
