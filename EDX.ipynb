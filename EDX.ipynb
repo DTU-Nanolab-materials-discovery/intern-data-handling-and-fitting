{
 "cells": [
  {
   "cell_type": "markdown",
   "metadata": {},
   "source": [
    "## Visualize and Analyze EDX data"
   ]
  },
  {
   "cell_type": "code",
   "execution_count": 3,
   "metadata": {},
   "outputs": [],
   "source": [
    "from functions import *"
   ]
  },
  {
   "cell_type": "markdown",
   "metadata": {},
   "source": [
    "#### visualize quickly a map - only works if you have coordinates written"
   ]
  },
  {
   "cell_type": "code",
   "execution_count": null,
   "metadata": {},
   "outputs": [],
   "source": [
    "folder = r\"O:\\Nlab\\Public\\DCH-plasma\\phosphosulfides_students\\Students\\Giulia\\01_Characterization\\layerprobe\\anait_0001_BaS_Zr\"\n",
    "filepath = os.path.join(folder, \"anait_0001_BR.xlsx\")\n",
    "new_heatmap(\"Layer 1 Ba Atomic %\", filepath=filepath, title = \"anait_0001_BR\", \n",
    "#savepath = os.path.join(folder, \"test.html\")\n",
    ")"
   ]
  },
  {
   "cell_type": "markdown",
   "metadata": {},
   "source": [
    "### Add coordinates to excel files"
   ]
  },
  {
   "cell_type": "code",
   "execution_count": null,
   "metadata": {},
   "outputs": [],
   "source": [
    "folder= r\"Z:\\P110143-phosphosulfides-Andrea\\Data\\Samples\\anait_0004\\EDX\\excels\"\n",
    "filename= \"mittma_00015_BR\"\n",
    "\n",
    "# if no coordinates were written for this file, but only magnification, spacing, nrow, ncolumns\n",
    "EDX_coordinates(folder, filename, edge=4)\n",
    "\n",
    "# if coordinates for 3 points were written, and you want the stage coordinates (for uploading to nomad)\n",
    "EDX_stage_coords(folder, filename)\n",
    "\n",
    "#if coordinates for 3 points were written, and you want the sample coordinates (for further processing locally)\n",
    "EDX_sample_coords(folder, filename)\n",
    "\n",
    "#if all coordinates were written, and you want to translate them to sample coordinates (for further processing locally)\n",
    "lp_translate_excel(folder, filename) #obsolete, requires corners to be right after statistcs"
   ]
  },
  {
   "cell_type": "code",
   "execution_count": 7,
   "metadata": {},
   "outputs": [
    {
     "name": "stdout",
     "output_type": "stream",
     "text": [
      "anait_0004_BR  - coordinates calculated, translated and saved\n",
      "anait_0004_BL  - coordinates calculated, translated and saved\n"
     ]
    }
   ],
   "source": [
    "#if more files are done at the same time, and you want to translate them all\n",
    "folder= r\"Z:\\P110143-phosphosulfides-Andrea\\Data\\Samples\\anait_0004_Ba\\EDX\\excels\"\n",
    "sample= \"anait_0004\"\n",
    "pos = [\"BR\",\n",
    "        #\"FR\",\n",
    "        #\"FL\", \n",
    "        \"BL\"\n",
    "        ]\n",
    "names = [sample+\"_\"+pos[i] for i in range(0,len(pos))]\n",
    "\n",
    "for i in range(0,len(pos)): #uncomment the one you need\n",
    "    #EDX_coordinates(folder, names[i], edge=4)\n",
    "    #EDX_stage_coords(folder, names[i])\n",
    "    EDX_sample_coords(folder, names[i])\n",
    "    #lp_translate_excel(folder, names[i])"
   ]
  },
  {
   "cell_type": "markdown",
   "metadata": {},
   "source": [
    "### loading data from excels file"
   ]
  },
  {
   "cell_type": "code",
   "execution_count": 8,
   "metadata": {},
   "outputs": [],
   "source": [
    "folderpath = r\"Z:\\P110143-phosphosulfides-Andrea\\Data\\Samples\\anait_0004_Ba\\EDX\\excels\"\n",
    "sample = \"anait_0004\"\n",
    "sample_n = 4\n",
    "\n",
    "pos = [\"BR\",\n",
    "        #\"FR\",\n",
    "        #\"FL\", \n",
    "        \"BL\"\n",
    "        ]\n",
    "names = [sample+\"_\"+pos[i] for i in range(0,len(pos))]"
   ]
  },
  {
   "cell_type": "markdown",
   "metadata": {},
   "source": [
    "IF NEEDED: translate the excel files"
   ]
  },
  {
   "cell_type": "code",
   "execution_count": null,
   "metadata": {},
   "outputs": [],
   "source": [
    "for i in range(0,len(pos)):\n",
    "    file = sample+\"_\"+pos[i]+\".xlsx\"\n",
    "    filepath = os.path.join(folder, file)\n",
    "    new_path = os.path.join(folder, sample+\"_\"+pos[i]+\"_translated.xlsx\")\n",
    "    lp_translate_excel(filepath, new_path)"
   ]
  },
  {
   "cell_type": "markdown",
   "metadata": {},
   "source": [
    "IF NEEDED: add coordinated to the excel files\n"
   ]
  },
  {
   "cell_type": "code",
   "execution_count": 13,
   "metadata": {},
   "outputs": [
    {
     "name": "stdout",
     "output_type": "stream",
     "text": [
      "mittma_0003_Cu_BR 0.013666666666666666 [-14.37, -14.37, -14.37, -14.37, -14.37, -14.37, -4.79, -4.79, -4.79, -4.79, -4.79, -4.79, 4.79, 4.79, 4.79, 4.79, 4.79, 4.79, 14.37, 14.37, 14.37, 14.37, 14.37, 14.37]\n",
      "mittma_0003_Cu_FR 0.013666666666666666 [-14.37, -14.37, -14.37, -14.37, -14.37, -14.37, -4.79, -4.79, -4.79, -4.79, -4.79, -4.79, 4.79, 4.79, 4.79, 4.79, 4.79, 4.79, 14.37, 14.37, 14.37, 14.37, 14.37, 14.37]\n",
      "mittma_0003_Cu_FL 0.013666666666666666 [-14.37, -14.37, -14.37, -14.37, -14.37, -14.37, -4.79, -4.79, -4.79, -4.79, -4.79, -4.79, 4.79, 4.79, 4.79, 4.79, 4.79, 4.79, 14.37, 14.37, 14.37, 14.37, 14.37, 14.37]\n",
      "mittma_0003_Cu_BL 0.013666666666666666 [-14.37, -14.37, -14.37, -14.37, -14.37, -14.37, -4.79, -4.79, -4.79, -4.79, -4.79, -4.79, 4.79, 4.79, 4.79, 4.79, 4.79, 4.79, 14.37, 14.37, 14.37, 14.37, 14.37, 14.37]\n"
     ]
    }
   ],
   "source": [
    "for i in range(0,len(names)): \n",
    "    filepath= os.path.join(folderpath, names[i]+\".xlsx\")\n",
    "    new_path = os.path.join(folderpath, names[i]+ \"_coords\"+\".xlsx\")\n",
    "\n",
    "    if names[i] == sample +\"_BR\":\n",
    "\n",
    "        X,Y, grid_input, areax, areay = EDS_coordinates(4, 6, 30000, 70000, filepath, new_path, edge = 4 )\n",
    "        print(names[i], areax, X)\n",
    "\n",
    "    if names[i] == sample +\"_FR\":\n",
    "        X,Y, grid_input, areax, areay = EDS_coordinates(4, 6, 30000, 70000, filepath, new_path, edge = 3 )\n",
    "        print(names[i], areax, X)\n",
    "\n",
    "    if names[i] == sample +\"_FL\":\n",
    "        X,Y, grid_input, areax, areay = EDS_coordinates(4, 6, 30000, 70000, filepath, new_path, edge= 3 )\n",
    "        print(names[i], areax, X)\n",
    "    \n",
    "    if names[i] == sample +\"_BL\":\n",
    "        X,Y, grid_input, areax, areay = EDS_coordinates(4, 6, 30000, 70000, filepath, new_path, edge= 3 )\n",
    "        print(names[i], areax, X)"
   ]
  },
  {
   "cell_type": "markdown",
   "metadata": {},
   "source": [
    "load the data"
   ]
  },
  {
   "cell_type": "code",
   "execution_count": 19,
   "metadata": {},
   "outputs": [
    {
     "data": {
      "image/png": "[encoded data removed]",
      "text/plain": [
       "<Figure size 640x480 with 1 Axes>"
      ]
     },
     "metadata": {},
     "output_type": "display_data"
    },
    {
     "data": {
      "image/png": "[encoded data removed]",
      "text/plain": [
       "<Figure size 640x480 with 1 Axes>"
      ]
     },
     "metadata": {},
     "output_type": "display_data"
    }
   ],
   "source": [
    "data_BR = pd.DataFrame()\n",
    "data_FR = pd.DataFrame()\n",
    "data_FL = pd.DataFrame()\n",
    "data_BL = pd.DataFrame()\n",
    "datas= [data_BR, \n",
    "        #data_FR,\n",
    "        #data_FL,\n",
    "        data_BL,\n",
    "         ]\n",
    "\n",
    "for i in range(0,len(pos)):\n",
    "    file = sample+\"_\"+pos[i]+\"_sample_coords.xlsx\" #change to coords or translated if needed\n",
    "    filepath = os.path.join(folderpath, file)\n",
    "    grid = measurement_grid(200,200,36,36,-18,-18)\n",
    "    datas[i], coords = read_layerprobe(filepath, grid, sheetname=\"Sheet1\")\n",
    "    plt.figure()\n",
    "    plot_grid(coords, grid)\n",
    "\n",
    "data__BR, coords_BR = translate_data(datas[0], 20,20)\n",
    "#data__FR, coords_FR = translate_data(datas[0], 20,-20)\n",
    "#data__FL, coords_FL = translate_data(datas[1], -20,-20)\n",
    "data__BL, coords_BL = translate_data(datas[1], -20,20)\n",
    "\n",
    "data = combine_data((data__BR,\n",
    "                     # data__FR,\n",
    "                     #data__FL, \n",
    "                     data__BL\n",
    "                     ))\n",
    "data0= data.copy()"
   ]
  },
  {
   "cell_type": "code",
   "execution_count": null,
   "metadata": {},
   "outputs": [],
   "source": [
    "coords = MI_to_grid(data0)\n",
    "display(coords)\n",
    "print(data0.columns.get_level_values(0).unique())\n",
    "display(data0)"
   ]
  },
  {
   "cell_type": "markdown",
   "metadata": {},
   "source": [
    "#### add a column with sample ID to the data"
   ]
  },
  {
   "cell_type": "code",
   "execution_count": 20,
   "metadata": {},
   "outputs": [
    {
     "name": "stdout",
     "output_type": "stream",
     "text": [
      "Index(['Substrate Si Atomic %', 'Layer 1 Density (g/cm³)',\n",
      "       'Layer 1 Thickness (nm)', 'Layer 1 P Atomic %', 'Layer 1 S Atomic %',\n",
      "       'Layer 1 Ba Atomic %', 'Sample ID', 'Substrate Si Atomic %',\n",
      "       'Layer 1 Density (g/cm³)', 'Layer 1 Thickness (nm)',\n",
      "       ...\n",
      "       'Layer 1 S Atomic %', 'Layer 1 Ba Atomic %', 'Sample ID',\n",
      "       'Substrate Si Atomic %', 'Layer 1 Density (g/cm³)',\n",
      "       'Layer 1 Thickness (nm)', 'Layer 1 P Atomic %', 'Layer 1 S Atomic %',\n",
      "       'Layer 1 Ba Atomic %', 'Sample ID'],\n",
      "      dtype='object', name='Data type', length=336)\n"
     ]
    },
    {
     "data": {
      "text/html": [
       "<div>\n",
       "<style scoped>\n",
       "    .dataframe tbody tr th:only-of-type {\n",
       "        vertical-align: middle;\n",
       "    }\n",
       "\n",
       "    .dataframe tbody tr th {\n",
       "        vertical-align: top;\n",
       "    }\n",
       "\n",
       "    .dataframe thead tr th {\n",
       "        text-align: left;\n",
       "    }\n",
       "</style>\n",
       "<table border=\"1\" class=\"dataframe\">\n",
       "  <thead>\n",
       "    <tr>\n",
       "      <th>Coordinate</th>\n",
       "      <th colspan=\"7\" halign=\"left\">4.529999999999999,2.3599999999999994</th>\n",
       "      <th colspan=\"3\" halign=\"left\">4.529999999999999,9.42</th>\n",
       "      <th>...</th>\n",
       "      <th colspan=\"3\" halign=\"left\">-5.619999999999999,30.04</th>\n",
       "      <th colspan=\"7\" halign=\"left\">-5.619999999999999,36.55</th>\n",
       "    </tr>\n",
       "    <tr>\n",
       "      <th>Data type</th>\n",
       "      <th>Substrate Si Atomic %</th>\n",
       "      <th>Layer 1 Density (g/cm³)</th>\n",
       "      <th>Layer 1 Thickness (nm)</th>\n",
       "      <th>Layer 1 P Atomic %</th>\n",
       "      <th>Layer 1 S Atomic %</th>\n",
       "      <th>Layer 1 Ba Atomic %</th>\n",
       "      <th>Sample ID</th>\n",
       "      <th>Substrate Si Atomic %</th>\n",
       "      <th>Layer 1 Density (g/cm³)</th>\n",
       "      <th>Layer 1 Thickness (nm)</th>\n",
       "      <th>...</th>\n",
       "      <th>Layer 1 S Atomic %</th>\n",
       "      <th>Layer 1 Ba Atomic %</th>\n",
       "      <th>Sample ID</th>\n",
       "      <th>Substrate Si Atomic %</th>\n",
       "      <th>Layer 1 Density (g/cm³)</th>\n",
       "      <th>Layer 1 Thickness (nm)</th>\n",
       "      <th>Layer 1 P Atomic %</th>\n",
       "      <th>Layer 1 S Atomic %</th>\n",
       "      <th>Layer 1 Ba Atomic %</th>\n",
       "      <th>Sample ID</th>\n",
       "    </tr>\n",
       "  </thead>\n",
       "  <tbody>\n",
       "    <tr>\n",
       "      <th>0</th>\n",
       "      <td>100.0</td>\n",
       "      <td>4.5</td>\n",
       "      <td>50.91</td>\n",
       "      <td>23.07</td>\n",
       "      <td>57.13</td>\n",
       "      <td>19.8</td>\n",
       "      <td>4</td>\n",
       "      <td>100.0</td>\n",
       "      <td>4.5</td>\n",
       "      <td>58.62</td>\n",
       "      <td>...</td>\n",
       "      <td>59.02</td>\n",
       "      <td>17.86</td>\n",
       "      <td>4</td>\n",
       "      <td>100.0</td>\n",
       "      <td>4.5</td>\n",
       "      <td>64.42</td>\n",
       "      <td>26.63</td>\n",
       "      <td>54.62</td>\n",
       "      <td>18.75</td>\n",
       "      <td>4</td>\n",
       "    </tr>\n",
       "  </tbody>\n",
       "</table>\n",
       "<p>1 rows × 336 columns</p>\n",
       "</div>"
      ],
      "text/plain": [
       "Coordinate 4.529999999999999,2.3599999999999994                          \\\n",
       "Data type                 Substrate Si Atomic % Layer 1 Density (g/cm³)   \n",
       "0                                         100.0                     4.5   \n",
       "\n",
       "Coordinate                                                               \\\n",
       "Data type  Layer 1 Thickness (nm) Layer 1 P Atomic % Layer 1 S Atomic %   \n",
       "0                           50.91              23.07              57.13   \n",
       "\n",
       "Coordinate                               4.529999999999999,9.42  \\\n",
       "Data type  Layer 1 Ba Atomic % Sample ID  Substrate Si Atomic %   \n",
       "0                         19.8         4                  100.0   \n",
       "\n",
       "Coordinate                                                 ...  \\\n",
       "Data type  Layer 1 Density (g/cm³) Layer 1 Thickness (nm)  ...   \n",
       "0                              4.5                  58.62  ...   \n",
       "\n",
       "Coordinate -5.619999999999999,30.04                                \\\n",
       "Data type        Layer 1 S Atomic % Layer 1 Ba Atomic % Sample ID   \n",
       "0                             59.02               17.86         4   \n",
       "\n",
       "Coordinate -5.619999999999999,36.55                          \\\n",
       "Data type     Substrate Si Atomic % Layer 1 Density (g/cm³)   \n",
       "0                             100.0                     4.5   \n",
       "\n",
       "Coordinate                                                               \\\n",
       "Data type  Layer 1 Thickness (nm) Layer 1 P Atomic % Layer 1 S Atomic %   \n",
       "0                           64.42              26.63              54.62   \n",
       "\n",
       "Coordinate                                \n",
       "Data type  Layer 1 Ba Atomic % Sample ID  \n",
       "0                        18.75         4  \n",
       "\n",
       "[1 rows x 336 columns]"
      ]
     },
     "metadata": {},
     "output_type": "display_data"
    }
   ],
   "source": [
    "headerlength = len(data0.columns.get_level_values(1).unique())\n",
    "k=0\n",
    "data = data0.copy()\n",
    "for i in range(0, len(data.columns.get_level_values(0).unique())):\n",
    "    #print(data.columns.get_level_values(0).unique()[i])\n",
    "    data.insert(headerlength*(i+1)+k, \"{}\".format(data.columns.get_level_values(0).unique()[i]), sample_n, allow_duplicates=True)\n",
    "    data.rename(columns={'': 'Sample ID'}, inplace = True)\n",
    "    k=k+1\n",
    "new_data = data.copy()\n",
    "print(data.columns.get_level_values(1))\n",
    "display(new_data)"
   ]
  },
  {
   "cell_type": "code",
   "execution_count": null,
   "metadata": {},
   "outputs": [],
   "source": [
    "info = get_data(new_data, x=15.09,y=29.64)\n",
    "print(info)"
   ]
  },
  {
   "cell_type": "code",
   "execution_count": 23,
   "metadata": {},
   "outputs": [],
   "source": [
    "#%% ------------------export pickle to use elsewhere ---------------------\n",
    "\n",
    "pickle_path = r\"Z:\\P110143-phosphosulfides-Andrea\\Data\\Analysis\\guidal\\anait_pickles\" # change to your pickle path\n",
    "with open(os.path.join(pickle_path, sample+\"_EDS.pkl\"), 'wb') as f:\n",
    "    pickle.dump(new_data, f)"
   ]
  },
  {
   "cell_type": "markdown",
   "metadata": {},
   "source": [
    "#### plot heatmaps for the whole sample (combined)"
   ]
  },
  {
   "cell_type": "code",
   "execution_count": null,
   "metadata": {},
   "outputs": [],
   "source": [
    "#plot for the whole sample\n",
    "datatypes=[\"Layer 1 Thickness (nm)\", \"Layer 1 Ba Atomic %\", \"Layer 1 P Atomic %\", \"Layer 1 S Atomic %\"] \n",
    "for datatype in datatypes:\n",
    "    savepath = os.path.join(folderpath, f\"{sample} {datatype}.png\")\n",
    "    new_heatmap(datatype, data=new_data, title = f\"{sample} {datatype}\",\n",
    "    savepath=savepath,\n",
    "     )"
   ]
  },
  {
   "cell_type": "markdown",
   "metadata": {},
   "source": [
    "#### plot a heatmap for each single sample"
   ]
  },
  {
   "cell_type": "code",
   "execution_count": null,
   "metadata": {},
   "outputs": [],
   "source": [
    "#plot for single samples\n",
    "datatypes=[\"Layer 1 Thickness (nm)\", \"Layer 1 Ba Atomic %\", \"Layer 1 P Atomic %\", \"Layer 1 S Atomic %\"] \n",
    "#exclude= ['-4.18,-5.640000000000001', '-4.18,-12.91', '-35.82,-20.18','-35.82,-27.09', '-35.82,-34.36']\n",
    "\n",
    "for i in range(len(datas)): \n",
    "    for datatype in datatypes:\n",
    "        savepath = os.path.join(folder,\"plots\", f\"{sample}_{pos[i]} {datatype}.png\")\n",
    "        new_heatmap(datatype, data=datas[i], exclude =['12.24,13.94'], title = f\"{sample}_{pos[i]} {datatype}\",\n",
    "        savepath=savepath,\n",
    "        )"
   ]
  },
  {
   "cell_type": "code",
   "execution_count": null,
   "metadata": {},
   "outputs": [],
   "source": [
    "data_FL = math_on_columns(datas[1], \"Layer 1 P Atomic %\", \"Layer 1 S Atomic %\", \"/\")\n",
    "data_FL.rename(columns={'Layer 1 P Atomic % / Layer 1 S Atomic %': 'Bulk P/S ratio '}, inplace = True)\n",
    "data_FL = math_on_columns(data_FL, \"Layer 1 P Atomic %\", \"Layer 1 S Atomic %\", \"+\")\n",
    "data_FL = math_on_columns(data_FL, \"Layer 1 Cu Atomic %\", \"Layer 1 P Atomic % + Layer 1 S Atomic %\", \"/\")\n",
    "data_FL.rename(columns={'Layer 1 Cu Atomic % / Layer 1 P Atomic % + Layer 1 S Atomic %': 'Bulk Cu/anions ratio'}, inplace = True)\n",
    "\n",
    "display(data_FL)\n",
    "new_heatmap(\"Bulk Cu/anions ratio\", data=data_FL, title = f\"{sample}_FL Bulk Cu/anions ratio\",savepath= os.path.join(folderpath, f\"{sample}_FL Bulk Cu_anions ratio.png\"))"
   ]
  },
  {
   "cell_type": "markdown",
   "metadata": {},
   "source": [
    "### code in progress"
   ]
  },
  {
   "cell_type": "markdown",
   "metadata": {},
   "source": [
    "Load .txt file with SE image details into an image_dict. \n",
    "May be useful if you again copy image info"
   ]
  },
  {
   "cell_type": "code",
   "execution_count": 64,
   "metadata": {},
   "outputs": [
    {
     "name": "stdout",
     "output_type": "stream",
     "text": [
      "{1: [-14.587, -15.856], 2: [-14.545, -9.252], 6: [-14.381, 17.161], 7: [-4.982, -15.916], 8: [-4.94, -9.312], 19: [14.228, -16.036], 24: [14.434, 16.982]}\n"
     ]
    }
   ],
   "source": [
    "file_path = r\"Z:\\P110143-phosphosulfides-Andrea\\Data\\Samples\\anait_0004_Ba\\EDX\\anait_0004_BL\\coordinates.txt\"\n",
    "# Initialize a dictionary to store the data\n",
    "image_dict = {}\n",
    "\n",
    "# Regular expressions to capture the relevant lines\n",
    "image_pattern = re.compile(r'Label:\\s*Electron Image (\\d+)')\n",
    "stage_x_pattern = re.compile(r'Stage X:\\s*([-+]?[0-9]*\\.?[0-9]+)mm')\n",
    "stage_y_pattern = re.compile(r'Stage Y:\\s*([-+]?[0-9]*\\.?[0-9]+)mm')\n",
    "\n",
    "# Variables to temporarily store the current image and its coordinates\n",
    "current_image = None\n",
    "x_coordinate = None\n",
    "y_coordinate = None\n",
    "\n",
    "# Read the file and extract the data\n",
    "with open(file_path, 'r') as file:\n",
    "    for line in file:\n",
    "        # Find image number\n",
    "        image_match = image_pattern.search(line)\n",
    "        if image_match:\n",
    "            # If we have a previous image and its coordinates, store them in the dictionary\n",
    "            if current_image is not None and x_coordinate is not None and y_coordinate is not None:\n",
    "                image_dict[current_image] = [x_coordinate, y_coordinate]\n",
    "\n",
    "            # Start a new image\n",
    "            current_image = int(image_match.group(1))\n",
    "            x_coordinate = None\n",
    "            y_coordinate = None\n",
    "\n",
    "        # Find Stage X\n",
    "        stage_x_match = stage_x_pattern.search(line)\n",
    "        if stage_x_match:\n",
    "            x_coordinate = float(stage_x_match.group(1))\n",
    "\n",
    "        # Find Stage Y\n",
    "        stage_y_match = stage_y_pattern.search(line)\n",
    "        if stage_y_match:\n",
    "            y_coordinate = float(stage_y_match.group(1))\n",
    "\n",
    "    # Store the last image and its coordinates after exiting the loop\n",
    "    if current_image is not None and x_coordinate is not None and y_coordinate is not None:\n",
    "        image_dict[current_image] = [x_coordinate, y_coordinate]\n",
    "\n",
    "# Show the dictionary\n",
    "print(image_dict)\n"
   ]
  },
  {
   "cell_type": "code",
   "execution_count": 65,
   "metadata": {},
   "outputs": [],
   "source": [
    "# save info from images 1-2-7\n",
    "ncolumns = 4\n",
    "nrows = 6\n",
    "mag= 30000\n",
    "\n",
    "#accurate \"grid vectors\"\n",
    "a = [image_dict[7][0] - image_dict[1][0], image_dict[7][1] - image_dict[1][1]]\n",
    "b = [image_dict[2][0] - image_dict[1][0], image_dict[2][1] - image_dict[1][1]]\n",
    "\n",
    "# grid vectors from first corner\n",
    "space_x = image_dict[7][0] - image_dict[1][0]\n",
    "space_y = image_dict[2][1] - image_dict[1][1]\n",
    "\n",
    "#grid vectors from furthest points\n",
    "spacing_x = (image_dict[19][0] - image_dict[1][0])/(ncolumns-1)\n",
    "spacing_y = (image_dict[6][1] - image_dict[1][1])/(nrows-1)\n",
    "\n",
    "#grid vector from point 24, making a square\n",
    "size_x = image_dict[24][0] - image_dict[1][0]\n",
    "size_y = image_dict[24][1] - image_dict[1][1]\n",
    "spacex_div = size_x/(ncolumns-1)\n",
    "spacey_div = size_y/(nrows-1)\n",
    "\n",
    "startx= image_dict[1][0]\n",
    "starty= image_dict[1][1]\n",
    "\n",
    "area_x = 13.7*30/mag\n",
    "area_y = 9.4*30/mag\n",
    "\n",
    "x,y=[],[]\n",
    "for key in image_dict:\n",
    "    x.append(image_dict[key][0])\n",
    "    y.append(image_dict[key][1])\n"
   ]
  },
  {
   "cell_type": "code",
   "execution_count": 66,
   "metadata": {},
   "outputs": [],
   "source": [
    "\n",
    "def get_coords(A,B, startx, starty, ncolumns, nrows):\n",
    "    coord_x = np.round(np.linspace(startx,startx+A*(ncolumns-1), ncolumns), 2)\n",
    "    coord_y = np.round(np.linspace(starty, starty+B*(nrows-1), nrows), 2)\n",
    "    X=[]\n",
    "    Y=[]\n",
    "    for j in range(0, ncolumns):\n",
    "        for i in range(0, nrows):\n",
    "            Y.append(coord_y[i])\n",
    "            X.append(coord_x[j])\n",
    "    return X,Y\n",
    "\n",
    "X_1619,Y_1619 = get_coords(spacing_x,spacing_y, startx, starty, ncolumns, nrows)\n",
    "X_127,Y_127 = get_coords(space_x,space_y, startx, starty, ncolumns, nrows)\n",
    "X_24,Y_24 = get_coords(spacex_div,spacey_div, startx, starty, ncolumns, nrows)"
   ]
  },
  {
   "cell_type": "code",
   "execution_count": 68,
   "metadata": {},
   "outputs": [
    {
     "data": {
      "text/plain": [
       "Text(0, 0.5, 'Y coordinate (mm)')"
      ]
     },
     "execution_count": 68,
     "metadata": {},
     "output_type": "execute_result"
    },
    {
     "data": {
      "image/png": "[encoded data removed]",
      "text/plain": [
       "<Figure size 640x480 with 1 Axes>"
      ]
     },
     "metadata": {},
     "output_type": "display_data"
    }
   ],
   "source": [
    "#plt.scatter(X_1619, Y_1619, color='green', label=\"Calculated from furthest points\", s=100)\n",
    "plt.scatter(x, y, color='blue', label=\"Measured\", s=100)\n",
    "plt.scatter(X_127, Y_127, color='red', marker='*', label=\"Calculated from images 1-2-7\", s=100) # as in EDX_stage_coords\n",
    "#plt.scatter(X_24, Y_24, color='pink', marker='x', label=\"Calculated from image 24\", s=50)\n",
    "plt.legend(bbox_to_anchor=(1.05, 1), loc='upper left', borderaxespad=0.)\n",
    "plt.xlabel(\"X coordinate (mm)\")\n",
    "plt.ylabel(\"Y coordinate (mm)\")"
   ]
  },
  {
   "cell_type": "code",
   "execution_count": 43,
   "metadata": {},
   "outputs": [
    {
     "name": "stdout",
     "output_type": "stream",
     "text": [
      "anait_0004_BR  - coordinates calculated and saved\n",
      "anait_0004_BR  - coordinates calculated, translated and saved\n"
     ]
    }
   ],
   "source": [
    "folder= r\"C:\\Users\\s222531\\OneDrive - Danmarks Tekniske Universitet\\MASTER_PROJECT_PHOSPHOSULFIDES\\results\\anait_0004_Ba\"\n",
    "filename= \"anait_0004_BR\"\n",
    "\n",
    "EDX_stage_coords(folder,filename)\n",
    "\n",
    "EDX_sample_coords(folder,filename)"
   ]
  }
 ],
 "metadata": {
  "kernelspec": {
   "display_name": "base",
   "language": "python",
   "name": "python3"
  },
  "language_info": {
   "codemirror_mode": {
    "name": "ipython",
    "version": 3
   },
   "file_extension": ".py",
   "mimetype": "text/x-python",
   "name": "python",
   "nbconvert_exporter": "python",
   "pygments_lexer": "ipython3",
   "version": "3.11.7"
  }
 },
 "nbformat": 4,
 "nbformat_minor": 2
}
