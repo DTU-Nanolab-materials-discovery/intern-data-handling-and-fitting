{
 "cells": [
  {
   "cell_type": "markdown",
   "metadata": {},
   "source": [
    "## Visualize and Analyze EDX data"
   ]
  },
  {
   "cell_type": "code",
   "execution_count": 1,
   "metadata": {},
   "outputs": [],
   "source": [
    "from functions import *"
   ]
  },
  {
   "cell_type": "markdown",
   "metadata": {},
   "source": [
    "#### visualize quickly a map - only works if you have coordinates written"
   ]
  },
  {
   "cell_type": "code",
   "execution_count": null,
   "metadata": {},
   "outputs": [],
   "source": [
    "folder = r\"O:\\Nlab\\Public\\DCH-plasma\\phosphosulfides_students\\Students\\Giulia\\01_Characterization\\layerprobe\\anait_0001_BaS_Zr\"\n",
    "filepath = os.path.join(folder, \"anait_0001_BR.xlsx\")\n",
    "new_heatmap(\"Layer 1 Ba Atomic %\", filepath=filepath, title = \"anait_0001_BR\", \n",
    "#savepath = os.path.join(folder, \"test.html\")\n",
    ")"
   ]
  },
  {
   "cell_type": "markdown",
   "metadata": {},
   "source": [
    "#### rename SE images, if needed\n",
    "\n",
    "If you have automated SEM images taken during EDX mapping in one folder, but the image numbers do not correspond to the point number in the EDX map, this function renames the image files in order ( smallest number => 1)"
   ]
  },
  {
   "cell_type": "code",
   "execution_count": null,
   "metadata": {},
   "outputs": [],
   "source": [
    "# folderpath= r\"Z:\\P110143-phosphosulfides-Andrea\\Data\\Samples\\mittma_0023_Cu\\EDX\\mittma_0023_FL\"\n",
    "rename_SE_images(folderpath)"
   ]
  },
  {
   "cell_type": "markdown",
   "metadata": {},
   "source": [
    "### Add coordinates to excel files\n",
    "In the first box: add coordinates to one file, in the second: loop over more files in the excel folder"
   ]
  },
  {
   "cell_type": "code",
   "execution_count": null,
   "metadata": {},
   "outputs": [],
   "source": [
    "folder= r\"Z:\\P110143-phosphosulfides-Andrea\\Data\\Samples\\mittma_0016_Cu\\EDX\\excels\"\n",
    "filename= \"mittma_0011_FR\" # without extension\n",
    "\n",
    "# if no coordinates were written for this file, but only magnification, spacing, nrow, ncolumns - returns coordinates in the sample\n",
    "#EDX_coordinates(folder, filename, edge=4)\n",
    "\n",
    "# if coordinates for 3 points were written, and you want the stage coordinates (for uploading to nomad)\n",
    "#EDX_stage_coords(folder, filename)\n",
    "\n",
    "#if coordinates for 3 points were written, and you want the sample coordinates (for further processing locally)\n",
    "# EDX_sample_coords(folder, filename)\n",
    "\n",
    "#if all coordinates were written, and you want to translate them to sample coordinates (for further processing locally)\n",
    "lp_translate_excel(folder, filename) "
   ]
  },
  {
   "cell_type": "code",
   "execution_count": null,
   "metadata": {},
   "outputs": [],
   "source": [
    "# more files at the same time\n",
    "folder= r\"Z:\\P110143-phosphosulfides-Andrea\\Data\\Samples\\mittma_0011_Cu\\EDX\\excels\"\n",
    "sample = \"mittma_0011\"\n",
    "pos = [ \"BR\",\n",
    "        \"FR\",\n",
    "        \"FL\", \n",
    "        \"BL\"\n",
    "        ]\n",
    "names = [sample+\"_\"+p for p in pos]\n",
    "\n",
    "# for i in range(0,len(pos)): #uncomment the one you need\n",
    "for name in names:\n",
    "    # EDX_coordinates(folder, name, edge=4)\n",
    "#   EDX_stage_coords(folder, name)\n",
    "    # EDX_sample_coords(folder, name)\n",
    "    lp_translate_excel(folder, name)"
   ]
  },
  {
   "cell_type": "markdown",
   "metadata": {},
   "source": [
    "### loading data from excels file\n",
    "Only do this if all files already have cooridnates written. \n",
    "The most common reason for errors here is if there are extra columns or comments in the first sheet of the excel file, differently from the template. If you get an error check this first"
   ]
  },
  {
   "cell_type": "code",
   "execution_count": null,
   "metadata": {},
   "outputs": [],
   "source": [
    "folder= r\"Z:\\P110143-phosphosulfides-Andrea\\Data\\Samples\\mittma_0022_Cu\\EDX\\excels\"\n",
    "\n",
    "sample = \"mittma_0022\"\n",
    "pos = [ \"BR\",\n",
    "        \"FR\",\n",
    "        \"FL\", \n",
    "        \"BL\"\n",
    "        ]\n",
    "# pos= ['B']\n",
    "names = [sample+\"_\"+p for p in pos]"
   ]
  },
  {
   "cell_type": "code",
   "execution_count": null,
   "metadata": {},
   "outputs": [],
   "source": [
    "datas = [pd.DataFrame() for _ in pos]\n",
    "\n",
    "for i in range(0,len(pos)):\n",
    "    file = sample+\"_\"+pos[i]+\"_sample_coords.xlsx\" #change to coords, sample_coords, stage_coords, translated as needed\n",
    "    filepath = os.path.join(folder, file)\n",
    "    grid = measurement_grid(200,200,38,38,-19,-19)\n",
    "    datas[i], coords = read_layerprobe(filepath, grid, sheetname=\"Sheet1\")\n",
    "    plt.figure()\n",
    "    plot_grid(coords, grid)\n",
    "\n",
    "# if not all four squares are present, comment out the ones that are missing, \n",
    "# and correct the numbers in datas[i], so that they are 0, 1, 2..    \n",
    "\n",
    "data__BR, coords_BR = translate_data(datas[0], 20,20)\n",
    "data__FR, coords_FR = translate_data(datas[1], 20,-20)\n",
    "data__FL, coords_FL = translate_data(datas[2], -20,-20)\n",
    "data__BL, coords_BL = translate_data(datas[3], -20,20)\n",
    "\n",
    "data = combine_data(( data__BR,\n",
    "                    data__FR,\n",
    "                     data__FL, \n",
    "                      data__BL\n",
    "                    ))\n",
    "data0= data.copy()\n",
    "\n",
    "sample_df= data0.copy()"
   ]
  },
  {
   "cell_type": "markdown",
   "metadata": {},
   "source": [
    "#### add a column with sample ID to the data, and export to pickles\n"
   ]
  },
  {
   "cell_type": "code",
   "execution_count": 5,
   "metadata": {},
   "outputs": [
    {
     "data": {
      "text/html": [
       "<div>\n",
       "<style scoped>\n",
       "    .dataframe tbody tr th:only-of-type {\n",
       "        vertical-align: middle;\n",
       "    }\n",
       "\n",
       "    .dataframe tbody tr th {\n",
       "        vertical-align: top;\n",
       "    }\n",
       "\n",
       "    .dataframe thead tr th {\n",
       "        text-align: left;\n",
       "    }\n",
       "</style>\n",
       "<table border=\"1\" class=\"dataframe\">\n",
       "  <thead>\n",
       "    <tr>\n",
       "      <th>Coordinate</th>\n",
       "      <th colspan=\"7\" halign=\"left\">4.4399999999999995,2.34</th>\n",
       "      <th colspan=\"3\" halign=\"left\">4.4399999999999995,9.59</th>\n",
       "      <th>...</th>\n",
       "      <th colspan=\"3\" halign=\"left\">-5.199999999999999,30.22</th>\n",
       "      <th colspan=\"7\" halign=\"left\">-5.199999999999999,37.09</th>\n",
       "    </tr>\n",
       "    <tr>\n",
       "      <th>Data type</th>\n",
       "      <th>Substrate Si Atomic %</th>\n",
       "      <th>Layer 1 Density (g/cm³)</th>\n",
       "      <th>Layer 1 Thickness (nm)</th>\n",
       "      <th>Layer 1 P Atomic %</th>\n",
       "      <th>Layer 1 S Atomic %</th>\n",
       "      <th>Layer 1 Cu Atomic %</th>\n",
       "      <th>Sample ID</th>\n",
       "      <th>Substrate Si Atomic %</th>\n",
       "      <th>Layer 1 Density (g/cm³)</th>\n",
       "      <th>Layer 1 Thickness (nm)</th>\n",
       "      <th>...</th>\n",
       "      <th>Layer 1 S Atomic %</th>\n",
       "      <th>Layer 1 Cu Atomic %</th>\n",
       "      <th>Sample ID</th>\n",
       "      <th>Substrate Si Atomic %</th>\n",
       "      <th>Layer 1 Density (g/cm³)</th>\n",
       "      <th>Layer 1 Thickness (nm)</th>\n",
       "      <th>Layer 1 P Atomic %</th>\n",
       "      <th>Layer 1 S Atomic %</th>\n",
       "      <th>Layer 1 Cu Atomic %</th>\n",
       "      <th>Sample ID</th>\n",
       "    </tr>\n",
       "  </thead>\n",
       "  <tbody>\n",
       "    <tr>\n",
       "      <th>0</th>\n",
       "      <td>100.0</td>\n",
       "      <td>4.33</td>\n",
       "      <td>98.43</td>\n",
       "      <td>9.14</td>\n",
       "      <td>19.59</td>\n",
       "      <td>71.27</td>\n",
       "      <td>22</td>\n",
       "      <td>100.0</td>\n",
       "      <td>4.33</td>\n",
       "      <td>110.08</td>\n",
       "      <td>...</td>\n",
       "      <td>19.4</td>\n",
       "      <td>71.55</td>\n",
       "      <td>22</td>\n",
       "      <td>100.0</td>\n",
       "      <td>4.33</td>\n",
       "      <td>140.55</td>\n",
       "      <td>8.19</td>\n",
       "      <td>19.29</td>\n",
       "      <td>72.53</td>\n",
       "      <td>22</td>\n",
       "    </tr>\n",
       "  </tbody>\n",
       "</table>\n",
       "<p>1 rows × 672 columns</p>\n",
       "</div>"
      ],
      "text/plain": [
       "Coordinate 4.4399999999999995,2.34                          \\\n",
       "Data type    Substrate Si Atomic % Layer 1 Density (g/cm³)   \n",
       "0                            100.0                    4.33   \n",
       "\n",
       "Coordinate                                                               \\\n",
       "Data type  Layer 1 Thickness (nm) Layer 1 P Atomic % Layer 1 S Atomic %   \n",
       "0                           98.43               9.14              19.59   \n",
       "\n",
       "Coordinate                               4.4399999999999995,9.59  \\\n",
       "Data type  Layer 1 Cu Atomic % Sample ID   Substrate Si Atomic %   \n",
       "0                        71.27        22                   100.0   \n",
       "\n",
       "Coordinate                                                 ...  \\\n",
       "Data type  Layer 1 Density (g/cm³) Layer 1 Thickness (nm)  ...   \n",
       "0                             4.33                 110.08  ...   \n",
       "\n",
       "Coordinate -5.199999999999999,30.22                                \\\n",
       "Data type        Layer 1 S Atomic % Layer 1 Cu Atomic % Sample ID   \n",
       "0                              19.4               71.55        22   \n",
       "\n",
       "Coordinate -5.199999999999999,37.09                          \\\n",
       "Data type     Substrate Si Atomic % Layer 1 Density (g/cm³)   \n",
       "0                             100.0                    4.33   \n",
       "\n",
       "Coordinate                                                               \\\n",
       "Data type  Layer 1 Thickness (nm) Layer 1 P Atomic % Layer 1 S Atomic %   \n",
       "0                          140.55               8.19              19.29   \n",
       "\n",
       "Coordinate                                \n",
       "Data type  Layer 1 Cu Atomic % Sample ID  \n",
       "0                        72.53        22  \n",
       "\n",
       "[1 rows x 672 columns]"
      ]
     },
     "metadata": {},
     "output_type": "display_data"
    }
   ],
   "source": [
    "sample_n= 22  # change to the sample number!\n",
    "sample_dict = {'Sample ID': [sample_n]*len(data0.columns.get_level_values(0).unique())}\n",
    "sample_df = add_info(data0, sample_dict)\n",
    "\n",
    "display(sample_df)"
   ]
  },
  {
   "cell_type": "code",
   "execution_count": 5,
   "metadata": {},
   "outputs": [],
   "source": [
    "#%% ------------------export pickle to use elsewhere ---------------------\n",
    "\n",
    "pickle_path = r\"Z:\\P110143-phosphosulfides-Andrea\\Data\\Analysis\\guidal\\mittma_pickles\" # change to your pickle path\n",
    "with open(os.path.join(pickle_path, sample+\"_EDS.pkl\"), 'wb') as f:\n",
    "    pickle.dump(sample_df, f)"
   ]
  },
  {
   "cell_type": "code",
   "execution_count": null,
   "metadata": {},
   "outputs": [],
   "source": [
    "# ------------------import pickle to use here ---------------------\n",
    "pickle_path = r\"Z:\\P110143-phosphosulfides-Andrea\\Data\\Analysis\\guidal\\mittma_pickles\" # change to your pickle path\n",
    "sample= 'mittma_0022'\n",
    "with open(os.path.join(pickle_path, sample+\"_EDS.pkl\"), 'rb') as f:\n",
    "    sample_df = pickle.load(f)"
   ]
  },
  {
   "cell_type": "markdown",
   "metadata": {},
   "source": [
    "#### Find points with a certain composition\n",
    "you can specify a range in % for each element, or a stoichiometry and a certain tolerance (+- tol%)"
   ]
  },
  {
   "cell_type": "code",
   "execution_count": 6,
   "metadata": {},
   "outputs": [
    {
     "name": "stdout",
     "output_type": "stream",
     "text": [
      "Layer 1 Cu Atomic % data at all coordinates.\n",
      "Layer 1 Cu Atomic % data at all coordinates.\n",
      "Layer 1 P Atomic % data at all coordinates.\n",
      "Layer 1 P Atomic % data at all coordinates.\n",
      "Layer 1 S Atomic % data at all coordinates.\n",
      "Layer 1 S Atomic % data at all coordinates.\n"
     ]
    },
    {
     "data": {
      "image/png": "[encoded data removed]",
      "text/plain": [
       "<Figure size 640x480 with 1 Axes>"
      ]
     },
     "metadata": {},
     "output_type": "display_data"
    }
   ],
   "source": [
    "\n",
    "# good_comp_df= find_composition(sample_df, 'Cu','P','S', range1=[40,50], range2=[5,10], range3=[40,50],display_option=False)\n",
    "good_comp_df= find_composition(sample_df, 'Cu','P','S',display_option=False, stoichiometry=[8,2,1], tolerance= 3, sample='Sample B')\n"
   ]
  },
  {
   "cell_type": "markdown",
   "metadata": {},
   "source": [
    "#### plot heatmaps for the whole sample (combined)"
   ]
  },
  {
   "cell_type": "code",
   "execution_count": 20,
   "metadata": {},
   "outputs": [],
   "source": [
    "def new_heatmap(datatype, data=None, filepath = None, exclude=None, cbar= None, index= None, savepath=None, title=None):\n",
    "    \"plot heatmaps with interpolated background, like in Nomad, if savepath ends with .png, it will save as png, if it ends with .html, it will save as html (interactive)\"\n",
    "\n",
    "    if filepath is not None:\n",
    "        raw_data = pd.read_excel(filepath, header=0)\n",
    "        x = raw_data[\"X (mm)\"].values\n",
    "        y = raw_data[\"Y (mm)\"].values \n",
    "        z = raw_data[datatype].values\n",
    "\n",
    "    if data is not None: \n",
    "        if exclude != None:\n",
    "            grid = MI_to_grid(data).drop_duplicates(ignore_index=True)\n",
    "            for point in exclude:\n",
    "                xx, yy= closest_coord(grid, point[0], point[1])\n",
    "                data = data.drop(data.iloc[:,data.columns.get_level_values(0)==f'{xx},{yy}'], axis=1)\n",
    "        xy = MI_to_grid(data).drop_duplicates(ignore_index=True)\n",
    "        x = xy[\"x\"].values\n",
    "        y = xy[\"y\"].values\n",
    "        if index ==None:\n",
    "            z = data.iloc[:, data.columns.get_level_values(1)==datatype].dropna().values.flatten()\n",
    "        else:\n",
    "            z = data.iloc[index, data.columns.get_level_values(1)==datatype].dropna().values.flatten()\n",
    "\n",
    "    xi = np.linspace(min(x), max(x), 100)\n",
    "    yi = np.linspace(min(y), max(y), 100)\n",
    "    xi, yi = np.meshgrid(xi, yi)\n",
    "    zi = griddata((x, y), z, (xi, yi), method='linear')\n",
    "\n",
    "    scatter = go.Scatter(\n",
    "            x=x,\n",
    "            y=y,\n",
    "            mode='markers',\n",
    "            marker=dict(\n",
    "                size=15,\n",
    "                color=z,  # Set color to thickness values\n",
    "                colorscale='Viridis',  # Choose a colorscale\n",
    "                showscale=False,  # Hide the colorbar for the scatter plot\n",
    "                line=dict(\n",
    "                    width=2,  # Set the width of the border\n",
    "                    color='DarkSlateGrey'  # Set the color of the border\n",
    "            ) ),\n",
    "        )\n",
    "    \n",
    "    if datatype.startswith(\"Layer 1\"):\n",
    "        cbar_title = datatype[8:]\n",
    "    else:\n",
    "        cbar_title = datatype\n",
    "    if cbar != None:\n",
    "        cbar_title = cbar\n",
    "\n",
    "    heatmap = go.Heatmap(\n",
    "    x=xi[0],\n",
    "    y=yi[:, 0],\n",
    "    z=zi,\n",
    "    colorscale='Viridis',\n",
    "    colorbar=dict(title=cbar_title),\n",
    "    )\n",
    "\n",
    "    fig = go.Figure(data=[heatmap, scatter])\n",
    "\n",
    "    if title == None:\n",
    "        title = datatype\n",
    "    \n",
    "    fig.update_layout(title=title,\n",
    "    xaxis_title='X Position (mm)',\n",
    "    yaxis_title='Y Position (mm)',\n",
    "    template='plotly_white',\n",
    "    autosize =False,\n",
    "    width = 600,\n",
    "    height = 500)\n",
    "\n",
    "    if savepath:\n",
    "        if savepath.endswith(\".png\"):\n",
    "            fig.write_image(savepath, scale=2) #scale sets the resolution here\n",
    "        \n",
    "        if savepath.endswith(\".html\"):\n",
    "            fig.write_html(savepath)\n",
    "    \n",
    "    fig.show()\n"
   ]
  },
  {
   "cell_type": "code",
   "execution_count": null,
   "metadata": {},
   "outputs": [],
   "source": [
    "#plot raw data for the whole sample\n",
    "datatypes=[\"Layer 1 Thickness (nm)\", \"Layer 1 Cu Atomic %\", \"Layer 1 P Atomic %\", \"Layer 1 S Atomic %\"] \n",
    "\n",
    "list_to_exclude= [[-4.6,-2.5]] # if you want to exclude some points, write them as a list [[x1,y1], [x2,y2]..]\n",
    "\n",
    "for datatype in datatypes:\n",
    "    savepath = os.path.join(folder, f\"{sample} {datatype}.png\") # save in .png or html\n",
    "    new_heatmap(datatype, data=data0, title = f\"{sample} {datatype}\",\n",
    "            exclude=list_to_exclude, \n",
    "    # savepath=savepath, \n",
    "     )"
   ]
  },
  {
   "cell_type": "code",
   "execution_count": 23,
   "metadata": {},
   "outputs": [
    {
     "data": {
      "text/html": [
       "<div>\n",
       "<style scoped>\n",
       "    .dataframe tbody tr th:only-of-type {\n",
       "        vertical-align: middle;\n",
       "    }\n",
       "\n",
       "    .dataframe tbody tr th {\n",
       "        vertical-align: top;\n",
       "    }\n",
       "\n",
       "    .dataframe thead tr th {\n",
       "        text-align: left;\n",
       "    }\n",
       "</style>\n",
       "<table border=\"1\" class=\"dataframe\">\n",
       "  <thead>\n",
       "    <tr>\n",
       "      <th>Coordinate</th>\n",
       "      <th colspan=\"10\" halign=\"left\">4.4399999999999995,2.34</th>\n",
       "      <th>...</th>\n",
       "      <th colspan=\"10\" halign=\"left\">-5.199999999999999,37.09</th>\n",
       "    </tr>\n",
       "    <tr>\n",
       "      <th>Data type</th>\n",
       "      <th>Substrate Si Atomic %</th>\n",
       "      <th>Layer 1 Density (g/cm³)</th>\n",
       "      <th>Layer 1 Thickness (nm)</th>\n",
       "      <th>Layer 1 P Atomic %</th>\n",
       "      <th>Layer 1 S Atomic %</th>\n",
       "      <th>Layer 1 Cu Atomic %</th>\n",
       "      <th>P/S</th>\n",
       "      <th>S/Cu</th>\n",
       "      <th>P/Cu</th>\n",
       "      <th>Cu/anions</th>\n",
       "      <th>...</th>\n",
       "      <th>Layer 1 P Atomic %</th>\n",
       "      <th>Layer 1 S Atomic %</th>\n",
       "      <th>Layer 1 Cu Atomic %</th>\n",
       "      <th>P/S</th>\n",
       "      <th>S/Cu</th>\n",
       "      <th>P/Cu</th>\n",
       "      <th>Cu/anions</th>\n",
       "      <th>Cu [nm]</th>\n",
       "      <th>S [nm]</th>\n",
       "      <th>P [nm]</th>\n",
       "    </tr>\n",
       "  </thead>\n",
       "  <tbody>\n",
       "    <tr>\n",
       "      <th>0</th>\n",
       "      <td>100.0</td>\n",
       "      <td>4.33</td>\n",
       "      <td>98.43</td>\n",
       "      <td>9.14</td>\n",
       "      <td>19.59</td>\n",
       "      <td>71.27</td>\n",
       "      <td>0.466565</td>\n",
       "      <td>0.27487</td>\n",
       "      <td>0.128245</td>\n",
       "      <td>2.480682</td>\n",
       "      <td>...</td>\n",
       "      <td>8.19</td>\n",
       "      <td>19.29</td>\n",
       "      <td>72.53</td>\n",
       "      <td>0.424572</td>\n",
       "      <td>0.265959</td>\n",
       "      <td>0.112919</td>\n",
       "      <td>2.639374</td>\n",
       "      <td>101.940915</td>\n",
       "      <td>27.112095</td>\n",
       "      <td>11.511045</td>\n",
       "    </tr>\n",
       "  </tbody>\n",
       "</table>\n",
       "<p>1 rows × 1248 columns</p>\n",
       "</div>"
      ],
      "text/plain": [
       "Coordinate 4.4399999999999995,2.34                          \\\n",
       "Data type    Substrate Si Atomic % Layer 1 Density (g/cm³)   \n",
       "0                            100.0                    4.33   \n",
       "\n",
       "Coordinate                                                               \\\n",
       "Data type  Layer 1 Thickness (nm) Layer 1 P Atomic % Layer 1 S Atomic %   \n",
       "0                           98.43               9.14              19.59   \n",
       "\n",
       "Coordinate                                                             ...  \\\n",
       "Data type  Layer 1 Cu Atomic %       P/S     S/Cu      P/Cu Cu/anions  ...   \n",
       "0                        71.27  0.466565  0.27487  0.128245  2.480682  ...   \n",
       "\n",
       "Coordinate -5.199999999999999,37.09                                         \\\n",
       "Data type        Layer 1 P Atomic % Layer 1 S Atomic % Layer 1 Cu Atomic %   \n",
       "0                              8.19              19.29               72.53   \n",
       "\n",
       "Coordinate                                                                 \\\n",
       "Data type        P/S      S/Cu      P/Cu Cu/anions     Cu [nm]     S [nm]   \n",
       "0           0.424572  0.265959  0.112919  2.639374  101.940915  27.112095   \n",
       "\n",
       "Coordinate             \n",
       "Data type      P [nm]  \n",
       "0           11.511045  \n",
       "\n",
       "[1 rows x 1248 columns]"
      ]
     },
     "metadata": {},
     "output_type": "display_data"
    }
   ],
   "source": [
    "# calculate ratios or other operations on the data \n",
    "\n",
    "data_1= calculate_ratio(data, 'P', 'S')\n",
    "data_1= calculate_ratio(data_1, 'S', 'Cu')\n",
    "data_1= calculate_ratio(data_1, 'P', 'Cu')\n",
    "\n",
    "data_1= math_on_columns(data_1, 'Layer 1 S Atomic %', 'Layer 1 P Atomic %', '+')\n",
    "data_1= math_on_columns(data_1, 'Layer 1 Cu Atomic %', 'Layer 1 S Atomic % + Layer 1 P Atomic %', '/')\n",
    "data_1.drop(columns=['Layer 1 S Atomic % + Layer 1 P Atomic %'],level=1, inplace=True)\n",
    "data_1.rename(columns={'Layer 1 Cu Atomic % / Layer 1 S Atomic % + Layer 1 P Atomic %': 'Cu/anions'}, inplace=True)\n",
    "\n",
    "\n",
    "data_1= calculate_el_thickness(data_1, 'Cu')\n",
    "data_1= calculate_el_thickness(data_1, 'S')\n",
    "data_1= calculate_el_thickness(data_1, 'P')\n",
    "\n",
    "## correct for density linearly\n",
    "# density_correction= 5/4.33\n",
    "# data_1= math_on_columns(data, 'Layer 1 Thickness (nm)', density_correction, '*')\n",
    "# data_1.rename(columns={f'Layer 1 Thickness (nm) * {density_correction}': 'Thickness (nm)'}, inplace=True)   \n",
    "\n",
    "display(data_1)\n"
   ]
  },
  {
   "cell_type": "code",
   "execution_count": null,
   "metadata": {},
   "outputs": [],
   "source": [
    "os.makedirs(os.path.join(folder, \"ratios\"), exist_ok=True)\n",
    "\n",
    "to_plot= [\"P/S\",\"S/Cu\", \"P/Cu\", \"Cu [nm]\", \"S [nm]\", \"P [nm]\"]\n",
    "names = ['P_S_ratio', 'S_Cu_ratio','P_Cu_ratio',  'Cu_Thickness_prod', 'S_Thickness_prod', 'P_Thickness_prod']\n",
    "\n",
    "for i in range (0, len(to_plot)):\n",
    "    \n",
    "    datatype = to_plot[i]\n",
    "    name = names[i]\n",
    "    savepath = os.path.join(folder,'ratios', f\"{sample}_{name}.png\")\n",
    "    new_heatmap(datatype, data=data_1, title = f\"{sample} {datatype}\",\n",
    "            exclude=list_to_exclude,\n",
    "    # savepath=savepath,\n",
    "     )\n",
    "    \n"
   ]
  },
  {
   "cell_type": "markdown",
   "metadata": {},
   "source": [
    "#### plot a heatmap for each single sample"
   ]
  },
  {
   "cell_type": "code",
   "execution_count": null,
   "metadata": {},
   "outputs": [],
   "source": [
    "#plot for single samples\n",
    "os.makedirs(os.path.join(folder,\"plots\"), exist_ok=True)\n",
    "datatypes=[\"Layer 1 Thickness (nm)\", \"Layer 1 Cu Atomic %\", \"Layer 1 P Atomic %\", \"Layer 1 S Atomic %\"] \n",
    "\n",
    "\n",
    "for i in range(len(datas)): \n",
    "    for datatype in datatypes:\n",
    "        savepath = os.path.join(folder,\"plots\", f\"{sample}_{pos[i]} {datatype}.png\")\n",
    "        new_heatmap(datatype, data=datas[i], title = f\"{sample}_{pos[i]} {datatype}\",\n",
    "        savepath=savepath,\n",
    "        exclude =list_to_exclude\n",
    "        )"
   ]
  },
  {
   "cell_type": "code",
   "execution_count": null,
   "metadata": {},
   "outputs": [],
   "source": [
    "data_FL = math_on_columns(datas[1], \"Layer 1 P Atomic %\", \"Layer 1 S Atomic %\", \"/\")\n",
    "data_FL.rename(columns={'Layer 1 P Atomic % / Layer 1 S Atomic %': 'Bulk P/S ratio '}, inplace = True)\n",
    "data_FL = math_on_columns(data_FL, \"Layer 1 P Atomic %\", \"Layer 1 S Atomic %\", \"+\")\n",
    "data_FL = math_on_columns(data_FL, \"Layer 1 Cu Atomic %\", \"Layer 1 P Atomic % + Layer 1 S Atomic %\", \"/\")\n",
    "data_FL.rename(columns={'Layer 1 Cu Atomic % / Layer 1 P Atomic % + Layer 1 S Atomic %': 'Bulk Cu/anions ratio'}, inplace = True)\n",
    "\n",
    "display(data_FL)\n",
    "new_heatmap(\"Bulk Cu/anions ratio\", data=data_FL, title = f\"{sample}_FL Bulk Cu/anions ratio\",savepath= os.path.join(folderpath, f\"{sample}_FL Bulk Cu_anions ratio.png\"))"
   ]
  },
  {
   "cell_type": "markdown",
   "metadata": {},
   "source": [
    "##### get statistics"
   ]
  },
  {
   "cell_type": "code",
   "execution_count": 31,
   "metadata": {},
   "outputs": [
    {
     "name": "stdout",
     "output_type": "stream",
     "text": [
      "Layer 1 Cu Atomic % data at all coordinates.\n",
      "Layer 1 P Atomic % data at all coordinates.\n",
      "Layer 1 S Atomic % data at all coordinates.\n"
     ]
    },
    {
     "data": {
      "text/html": [
       "<div>\n",
       "<style scoped>\n",
       "    .dataframe tbody tr th:only-of-type {\n",
       "        vertical-align: middle;\n",
       "    }\n",
       "\n",
       "    .dataframe tbody tr th {\n",
       "        vertical-align: top;\n",
       "    }\n",
       "\n",
       "    .dataframe thead th {\n",
       "        text-align: right;\n",
       "    }\n",
       "</style>\n",
       "<table border=\"1\" class=\"dataframe\">\n",
       "  <thead>\n",
       "    <tr style=\"text-align: right;\">\n",
       "      <th></th>\n",
       "      <th>Cu</th>\n",
       "      <th>P</th>\n",
       "      <th>S</th>\n",
       "    </tr>\n",
       "  </thead>\n",
       "  <tbody>\n",
       "    <tr>\n",
       "      <th>min</th>\n",
       "      <td>64.550000</td>\n",
       "      <td>0.090000</td>\n",
       "      <td>3.4500</td>\n",
       "    </tr>\n",
       "    <tr>\n",
       "      <th>max</th>\n",
       "      <td>76.330000</td>\n",
       "      <td>21.430000</td>\n",
       "      <td>34.0000</td>\n",
       "    </tr>\n",
       "    <tr>\n",
       "      <th>mean</th>\n",
       "      <td>72.036979</td>\n",
       "      <td>9.675208</td>\n",
       "      <td>18.2875</td>\n",
       "    </tr>\n",
       "  </tbody>\n",
       "</table>\n",
       "</div>"
      ],
      "text/plain": [
       "             Cu          P        S\n",
       "min   64.550000   0.090000   3.4500\n",
       "max   76.330000  21.430000  34.0000\n",
       "mean  72.036979   9.675208  18.2875"
      ]
     },
     "metadata": {},
     "output_type": "display_data"
    }
   ],
   "source": [
    "Cu_data = stats(data, \"Layer 1 Cu Atomic %\")\n",
    "P_data = stats(data, \"Layer 1 P Atomic %\")\n",
    "S_data = stats(data, \"Layer 1 S Atomic %\")\n",
    "\n",
    "results = pd.concat([Cu_data, P_data, S_data], axis=1)\n",
    "results.columns = [\"Cu\", \"P\", \"S\"]\n",
    "display(results)\n",
    "\n",
    "ratio0 = results.loc[\"mean\", \"Cu\"]/results.loc[\"mean\", \"P\"]\n",
    "ratio2 = results.loc[\"mean\", \"S\"]/results.loc[\"mean\", \"P\"]"
   ]
  }
 ],
 "metadata": {
  "kernelspec": {
   "display_name": "base",
   "language": "python",
   "name": "python3"
  },
  "language_info": {
   "codemirror_mode": {
    "name": "ipython",
    "version": 3
   },
   "file_extension": ".py",
   "mimetype": "text/x-python",
   "name": "python",
   "nbconvert_exporter": "python",
   "pygments_lexer": "ipython3",
   "version": "3.11.7"
  }
 },
 "nbformat": 4,
 "nbformat_minor": 2
}
