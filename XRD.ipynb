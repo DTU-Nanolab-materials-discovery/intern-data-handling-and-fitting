{
 "cells": [
  {
   "cell_type": "markdown",
   "metadata": {},
   "source": [
    "### Here XRD data are visualized and analyzed "
   ]
  },
  {
   "cell_type": "code",
   "execution_count": null,
   "metadata": {},
   "outputs": [],
   "source": [
    "from functions import *\n",
    "\n",
    "sample = \"mittma_0022_FR\"\n",
    "#path to the Data / Sample folder\n",
    "folder = r\"Z:\\P110143-phosphosulfides-Andrea\\Data\\Samples\\mittma_0022_Cu\\XRD\" "
   ]
  },
  {
   "cell_type": "markdown",
   "metadata": {},
   "source": [
    "#### Raw data treatment"
   ]
  },
  {
   "cell_type": "code",
   "execution_count": null,
   "metadata": {},
   "outputs": [],
   "source": [
    "grid = measurement_grid(5,5,34,34,-17,3) # BR_map 3mm margin (back sample)\n",
    "# grid = measurement_grid(5,10,32,72,-16,-40) # 2 samples\n",
    "\n",
    "filename = \"mittma_0022_FR_map.txt\" \n",
    "filename = os.path.join(folder, filename)\n",
    "\n",
    "initial_data, coords = read_XRD(filename, grid, n = 0, separator = \"\\t\")\n",
    "plot_grid(coords,grid)"
   ]
  },
  {
   "cell_type": "markdown",
   "metadata": {},
   "source": [
    "Raw data visualization and selection or translation"
   ]
  },
  {
   "cell_type": "code",
   "execution_count": null,
   "metadata": {},
   "outputs": [],
   "source": [
    "datatype_y= 'Intensity, cps'\n",
    "datatype_x='2θ (°)'\n",
    "plot_data(initial_data, datatype_x, datatype_y , plotscale = 'log')\n",
    "display(initial_data)\n",
    "\n",
    "# export_specific(initial_data, ['2θ (°)', 'Intensity, cps'], 17.0, 17.0, path=os.path.join(exp_path, sample+\"_17_17.txt\"))"
   ]
  },
  {
   "cell_type": "code",
   "execution_count": null,
   "metadata": {},
   "outputs": [],
   "source": [
    "# if you want to work only on a limited number of points \n",
    "which =initial_data.keys()[0:8]\n",
    "data= initial_data[which]\n",
    "display(data)"
   ]
  },
  {
   "cell_type": "code",
   "execution_count": null,
   "metadata": {},
   "outputs": [],
   "source": [
    "# translate data if needed\n",
    "data, coords = translate_data(initial_data, x=0, y=-20)\n",
    "X,Y= extract_coordinates(data)\n",
    "display(pd.DataFrame({'X':X, 'Y':Y}))\n",
    "# MI_to_grid(data) #prints new coordinates"
   ]
  },
  {
   "cell_type": "markdown",
   "metadata": {},
   "source": [
    "Remove the background and save processed data for future use"
   ]
  },
  {
   "cell_type": "code",
   "execution_count": null,
   "metadata": {},
   "outputs": [],
   "source": [
    "# display(initial_data)\n",
    "# data=initial_data # uncomment this if you use the whole data, withour any selection or translation\n",
    "print(data.columns)"
   ]
  },
  {
   "cell_type": "code",
   "execution_count": null,
   "metadata": {},
   "outputs": [],
   "source": [
    "#cut data to the region of interest , if needed\n",
    "\n",
    "last_2theta= 60\n",
    "\n",
    "col_theta = data.columns[data.columns.get_level_values(1)=='2θ (°)']\n",
    "col_counts= data.columns[data.columns.get_level_values(1)=='Intensity, cps']\n",
    "coords= data.columns.get_level_values(0).unique()\n",
    "# print(col_theta)\n",
    "columns= data.columns.get_level_values(1).unique()\n",
    "for i in range(0,len(coords)):\n",
    "    # print(data.columns.get_level_values(0).unique()[i])\n",
    "    print(coords[i])\n",
    "    # print(data[col_theta[i]])\n",
    "    idx_last = np.where(data[col_theta[i]]>last_2theta)[0][0]\n",
    "    print(idx_last)\n",
    "\n",
    "data.drop(data.index[idx_last:], inplace=True)\n",
    "\n",
    "display(data)"
   ]
  },
  {
   "cell_type": "code",
   "execution_count": null,
   "metadata": {},
   "outputs": [],
   "source": [
    "#  preliminary finidng peaks \n",
    "dataRangeMin = 0\n",
    "dataRangeMax = len(data)\n",
    "filterstrength = 10 # higher number = more noise is removed by the filter\n",
    "peakprominence = 100 # higher number = only peaks with prominence above this value are considered\n",
    "peakwidth = 20\n",
    " # higher number = wider peaks are considered\n",
    "\n",
    "peaks, dataCorrected = initial_peaks(data, dataRangeMin, dataRangeMax, filterstrength,\n",
    "                                         peakprominence, peakwidth,\n",
    "                                         withplots = True, plotscale = 'linear')"
   ]
  },
  {
   "cell_type": "code",
   "execution_count": null,
   "metadata": {},
   "outputs": [],
   "source": [
    "#  remove the background \n",
    "data_out = XRD_background(data,peaks, cut_range=1, order=4, withplots= True, Si_cut=True)"
   ]
  },
  {
   "cell_type": "code",
   "execution_count": null,
   "metadata": {},
   "outputs": [],
   "source": [
    "#  save clean data for future use \n",
    "\n",
    "name = sample + \"_clean.pkl\"\n",
    "# name = \"mittma_0019_R_XRD.pkl\"\n",
    "\n",
    "with (open(os.path.join(folder, name), \"wb\")) as openfile:\n",
    "    pickle.dump(data_out, openfile)"
   ]
  },
  {
   "cell_type": "markdown",
   "metadata": {},
   "source": [
    "### Analysis section"
   ]
  },
  {
   "cell_type": "code",
   "execution_count": 19,
   "metadata": {},
   "outputs": [
    {
     "data": {
      "text/html": [
       "<div>\n",
       "<style scoped>\n",
       "    .dataframe tbody tr th:only-of-type {\n",
       "        vertical-align: middle;\n",
       "    }\n",
       "\n",
       "    .dataframe tbody tr th {\n",
       "        vertical-align: top;\n",
       "    }\n",
       "\n",
       "    .dataframe thead th {\n",
       "        text-align: right;\n",
       "    }\n",
       "</style>\n",
       "<table border=\"1\" class=\"dataframe\">\n",
       "  <thead>\n",
       "    <tr style=\"text-align: right;\">\n",
       "      <th></th>\n",
       "      <th>Peak 2theta</th>\n",
       "      <th>Peak intensity</th>\n",
       "      <th>2theta</th>\n",
       "      <th>I</th>\n",
       "    </tr>\n",
       "  </thead>\n",
       "  <tbody>\n",
       "    <tr>\n",
       "      <th>0</th>\n",
       "      <td>28.228228</td>\n",
       "      <td>530.563623</td>\n",
       "      <td>20.000000</td>\n",
       "      <td>1.142195</td>\n",
       "    </tr>\n",
       "    <tr>\n",
       "      <th>1</th>\n",
       "      <td>31.891892</td>\n",
       "      <td>481.050563</td>\n",
       "      <td>20.060060</td>\n",
       "      <td>3.660634</td>\n",
       "    </tr>\n",
       "    <tr>\n",
       "      <th>2</th>\n",
       "      <td>53.693694</td>\n",
       "      <td>361.288970</td>\n",
       "      <td>20.120120</td>\n",
       "      <td>8.179245</td>\n",
       "    </tr>\n",
       "    <tr>\n",
       "      <th>3</th>\n",
       "      <td>29.369369</td>\n",
       "      <td>332.629103</td>\n",
       "      <td>20.180180</td>\n",
       "      <td>12.741217</td>\n",
       "    </tr>\n",
       "    <tr>\n",
       "      <th>4</th>\n",
       "      <td>49.909910</td>\n",
       "      <td>262.777901</td>\n",
       "      <td>20.240240</td>\n",
       "      <td>13.837239</td>\n",
       "    </tr>\n",
       "    <tr>\n",
       "      <th>5</th>\n",
       "      <td>41.141141</td>\n",
       "      <td>164.261586</td>\n",
       "      <td>20.300300</td>\n",
       "      <td>10.476803</td>\n",
       "    </tr>\n",
       "    <tr>\n",
       "      <th>6</th>\n",
       "      <td>58.978979</td>\n",
       "      <td>143.929880</td>\n",
       "      <td>20.360360</td>\n",
       "      <td>5.530304</td>\n",
       "    </tr>\n",
       "    <tr>\n",
       "      <th>7</th>\n",
       "      <td>76.396396</td>\n",
       "      <td>71.074564</td>\n",
       "      <td>20.420420</td>\n",
       "      <td>2.035213</td>\n",
       "    </tr>\n",
       "    <tr>\n",
       "      <th>8</th>\n",
       "      <td>60.540541</td>\n",
       "      <td>37.644476</td>\n",
       "      <td>20.480480</td>\n",
       "      <td>0.522170</td>\n",
       "    </tr>\n",
       "    <tr>\n",
       "      <th>9</th>\n",
       "      <td>NaN</td>\n",
       "      <td>NaN</td>\n",
       "      <td>20.540541</td>\n",
       "      <td>0.093402</td>\n",
       "    </tr>\n",
       "  </tbody>\n",
       "</table>\n",
       "</div>"
      ],
      "text/plain": [
       "   Peak 2theta  Peak intensity     2theta          I\n",
       "0    28.228228      530.563623  20.000000   1.142195\n",
       "1    31.891892      481.050563  20.060060   3.660634\n",
       "2    53.693694      361.288970  20.120120   8.179245\n",
       "3    29.369369      332.629103  20.180180  12.741217\n",
       "4    49.909910      262.777901  20.240240  13.837239\n",
       "5    41.141141      164.261586  20.300300  10.476803\n",
       "6    58.978979      143.929880  20.360360   5.530304\n",
       "7    76.396396       71.074564  20.420420   2.035213\n",
       "8    60.540541       37.644476  20.480480   0.522170\n",
       "9          NaN             NaN  20.540541   0.093402"
      ]
     },
     "metadata": {},
     "output_type": "display_data"
    }
   ],
   "source": [
    "## load clean data, if previously processed  \n",
    "# folder=r\"Z:\\P110143-phosphosulfides-Andrea\\Data\\Samples\\mittma_0015_Cu\\XRD\"\n",
    "\n",
    "# name = sample + \"_XRD.pkl\"\n",
    "# # name= sample +\"_clean.pkl\"\n",
    "# with open(os.path.join(folder, name), \"rb\") as openfile:\n",
    "#     data_out = pickle.load(openfile) \n",
    "\n",
    "##  load refence spectra\n",
    "\n",
    "ref_path = r\"Z:\\P110143-phosphosulfides-Andrea\\Data\\Analysis\\guidal\\XRD\\ref_database\\reflections\"\n",
    "\n",
    "with open(os.path.join(ref_path, \"reflections.pkl\"), 'rb') as f:\n",
    "    ref_peaks_df = pickle.load(f)\n",
    "\n",
    "display(ref_peaks_df[\"Cu3PS4\"].head(10))\n",
    "# display(data_out)"
   ]
  },
  {
   "cell_type": "markdown",
   "metadata": {},
   "source": [
    "#### Interactive plot to find possible phases"
   ]
  },
  {
   "cell_type": "code",
   "execution_count": null,
   "metadata": {},
   "outputs": [],
   "source": [
    "x, y = extract_coordinates(data_out)\n",
    "# x,y = select_points(data_out, y_max=0)\n",
    "print(x)\n",
    "print(y) \n",
    "\n",
    "last_2theta= 60\n",
    "data=data_out\n",
    "\n",
    "col_theta = data.columns[data.columns.get_level_values(1)=='2θ (°)']\n",
    "# col_counts= data.columns[data.columns.get_level_values(1)=='Intensity, cps']\n",
    "coords= data.columns.get_level_values(0).unique()\n",
    "# print(col_theta)\n",
    "columns= data.columns.get_level_values(1).unique()\n",
    "for i in range(0,len(coords)):\n",
    "    # print(data.columns.get_level_values(0).unique()[i])\n",
    "    print(coords[i])\n",
    "    # print(data[col_theta[i]])\n",
    "    idx_last = np.where(data[col_theta[i]]>last_2theta)[0][0]\n",
    "    print(idx_last)\n",
    "    # data[col_theta[i]]= data[col_theta[i]].iloc[:idx_last]\n",
    "    # data[col_counts[i]]= data[col_counts[i]].iloc[:idx_last]\n",
    "\n",
    "data.drop(data.index[idx_last:], inplace=True)\n",
    "\n",
    "display(data)\n",
    "\n",
    "# plot_data(data_out, '2θ (°)', 'Intensity, cps',x=-18,y=18, plotscale = 'log')"
   ]
  },
  {
   "cell_type": "code",
   "execution_count": null,
   "metadata": {},
   "outputs": [],
   "source": [
    "# data_shifted, coords= translate_data(data, x=20, y=0)\n",
    "\n",
    "plot_grid(coords,coords)"
   ]
  },
  {
   "cell_type": "code",
   "execution_count": null,
   "metadata": {},
   "outputs": [],
   "source": [
    "# plot all the points in the interactive plot\n",
    "x, y = extract_coordinates(data_out)\n",
    "\n",
    "savepath= r\"Z:\\P110143-phosphosulfides-Andrea\\Data\\Analysis\\guidal\\XRD\" # change to your path\n",
    "savepath = os.path.join(savepath, sample+\"_interactive.html\")\n",
    "\n",
    "fig= interactive_XRD_shift(data_out, '2θ (°)', 'Corrected Intensity', 400, x,y, ref_peaks_df, \n",
    "                           title= sample +' XRD map',\n",
    "                        #    savepath=savepath\n",
    "                           )\n"
   ]
  },
  {
   "cell_type": "code",
   "execution_count": null,
   "metadata": {},
   "outputs": [],
   "source": [
    "# make specific plots\n",
    "x,y= select_points(data_out, x_min=10)\n",
    "plot_XRD_shift(data, '2θ (°)', 'Corrected Intensity', 600, x,y, savepath=False, show=False)\n",
    "\n",
    "refs= ['Cu2S', 'CuS2',\n",
    "       'Cu7S4', 'Cu9S5', \n",
    "       #'Cu3S2'\n",
    "       ]\n",
    "shift = 1000\n",
    "dampen= ['Cu9S5', 'Cu3S2']\n",
    "coeff=2\n",
    "colors = ['brown', 'g', 'b', 'pink']\n",
    "i=0\n",
    "for ref in refs:\n",
    "    if ref in dampen:\n",
    "        coeff=0.5\n",
    "\n",
    "    plt.plot(ref_peaks_df[ref]['2theta'], ref_peaks_df[ref]['I']*coeff-shift, color=colors[i], label=ref)\n",
    "    plt.vlines(ref_peaks_df[ref]['Peak 2theta'],-3000, 3000, color=colors[i], linestyles='dashed', alpha=0.5)\n",
    "    shift+= 1000\n",
    "    i+=1\n",
    "\n",
    "plt.legend(bbox_to_anchor=(1.02, 1), loc='upper left')\n",
    "plt.xlim(20, 60)\n",
    "plt.show()"
   ]
  },
  {
   "cell_type": "code",
   "execution_count": null,
   "metadata": {},
   "outputs": [],
   "source": [
    "#this is just a box for notes on the phases you see\n",
    "phase_A = [5,10]\n",
    "phase_B = [23,24]\n",
    "phase_C = [8,9,13,14,15,17, 18,19,20,22]\n",
    "phase_D = [3,4,11,12,16,21]\n",
    "phase_E = [1,2,6,7]\n",
    "Cu8P2S = [25] \n",
    "\n",
    "B= list(np.linspace(21,30,10).astype(int))\n",
    "A= np.linspace(41,50,10)\n",
    "print(B)\n",
    "print(A)"
   ]
  },
  {
   "cell_type": "markdown",
   "metadata": {},
   "source": [
    "#### export specific data to a txt file"
   ]
  },
  {
   "cell_type": "code",
   "execution_count": null,
   "metadata": {},
   "outputs": [],
   "source": [
    "\n",
    "exp_path = r\"Z:\\P110143-phosphosulfides-Andrea\\Data\\Analysis\\guidal\\XRD\"\n",
    "export_specific(data_out, ['2θ (°)', 'Corrected Intensity'], 17.0, 17.0, path=os.path.join(exp_path, sample+\"_17_17_sulphide.txt\"))\n"
   ]
  },
  {
   "cell_type": "markdown",
   "metadata": {},
   "source": [
    "#### Assign phases to different points"
   ]
  },
  {
   "cell_type": "code",
   "execution_count": null,
   "metadata": {},
   "outputs": [],
   "source": [
    "phase_info = assign_phases_labels(data_out)"
   ]
  },
  {
   "cell_type": "code",
   "execution_count": null,
   "metadata": {},
   "outputs": [],
   "source": [
    "new_df = add_info(data_out,phase_info)\n",
    "display(new_df) #check that phases are assigned properly"
   ]
  },
  {
   "cell_type": "code",
   "execution_count": null,
   "metadata": {},
   "outputs": [],
   "source": [
    "# save the phases df in a pickle file (not necessary probably)\n",
    "pkl_path = r\"Z:\\P110143-phosphosulfides-Andrea\\Data\\Analysis\\guidal\\XRD\" \n",
    "with open(os.path.join(folder, sample+\"new_phases.pkl\"), \"wb\") as openfile:\n",
    "    pickle.dump(new_df, openfile)"
   ]
  },
  {
   "cell_type": "markdown",
   "metadata": {},
   "source": [
    "#### Fit specific peaks "
   ]
  },
  {
   "cell_type": "code",
   "execution_count": null,
   "metadata": {},
   "outputs": [],
   "source": [
    "## remove unwanted datapoints, or columns\n",
    "# data_to_analyze = data_out.drop(columns=data_out.columns[data_out.columns.get_level_values(0) == '18.0,-18.0'])\n",
    "# data_to_analyze = data_to_analyze.drop(columns=data_to_analyze.columns[data_to_analyze.columns.get_level_values(1) == 'Intensity, cps'])\n",
    "# data_to_analyze = data_to_analyze.drop(columns=data_to_analyze.columns[data_to_analyze.columns.get_level_values(1) == 'Background'])\n",
    "# which =data_out.keys()[0:100]\n",
    "# data_to_analyze= data_out[which]\n",
    "# display(data_to_analyze)\n",
    "data_to_analyze= data_out # if you want to work on the whole dataset\n",
    "\n",
    "data_to_analyze = data_to_analyze.drop(columns=data_to_analyze.columns[data_to_analyze.columns.get_level_values(1) == 'Intensity, cps'])\n",
    "data_to_analyze = data_to_analyze.drop(columns=data_to_analyze.columns[data_to_analyze.columns.get_level_values(1) == 'Background'])\n",
    "print(data_to_analyze.columns.get_level_values(1).unique())\n",
    "print(data_to_analyze.columns.get_level_values(0).unique())"
   ]
  },
  {
   "cell_type": "code",
   "execution_count": null,
   "metadata": {},
   "outputs": [],
   "source": [
    "new_peaks, new_data = initial_peaks(data_to_analyze, 0, len(data_to_analyze),\n",
    "                                    filterstrength= 15,\n",
    "                                    peakprominence= 90,\n",
    "                                    peakheight= 110,\n",
    "                                    peakwidth= 20,\n",
    "                                    withplots=True, plotscale='linear')"
   ]
  },
  {
   "cell_type": "code",
   "execution_count": null,
   "metadata": {},
   "outputs": [],
   "source": [
    "display(new_peaks)\n",
    "display(ref_peaks_df['Cu7PS6'].sort_values(by='Peak 2theta'))"
   ]
  },
  {
   "cell_type": "code",
   "execution_count": null,
   "metadata": {},
   "outputs": [],
   "source": [
    "# define peak position to analyze, and fit the peak with two pseudovoigts (ka1, ka2)\n",
    "\n",
    "peak_position = 32.05\n",
    "df_first_peak = fit_this_peak(data_to_analyze, peak_position, 0.7, withplots = True, printinfo = False)\n",
    "# save it manually if you want to keep it"
   ]
  },
  {
   "cell_type": "code",
   "execution_count": null,
   "metadata": {},
   "outputs": [],
   "source": [
    "ref= 32.072072 # peak position of the reference peak\n",
    "df_first_peak = math_on_columns(df_first_peak, 'Center', ref, '-')\n",
    "df_first_peak.rename(columns={f'Center - {ref}': 'shift'}, inplace=True)\n",
    "display(df_first_peak.head(4))"
   ]
  },
  {
   "cell_type": "code",
   "execution_count": null,
   "metadata": {},
   "outputs": [],
   "source": [
    "#  plot info from peak fitting in a heatmap\n",
    "\n",
    "list_to_plot = [\"Center\", \"Amplitude\", \"FWHM\", \"shift\"]#, \"Fraction\"]\n",
    "plots_path = r\"Z:\\P110143-phosphosulfides-Andrea\\Data\\Analysis\\guidal\\XRD\\Cu7PS6\" # change to your path\n",
    "\n",
    "# list_to_exclude = [[18, 0], [18,8]]\n",
    "for item in list_to_plot:\n",
    "    savepath = os.path.join(plots_path, f'{sample}_{peak_position}_{item}.png')\n",
    "    title= 'Cu<sub>7</sub>PS<sub>6</sub> without S-Cracker - fit at 2θ= ' +f'{peak_position}° - {item}'\n",
    "  \n",
    "    new_heatmap(item, data= df_first_peak, title =  title, \n",
    "                # exclude= list_to_exclude,\n",
    "                savepath = savepath\n",
    "                )"
   ]
  },
  {
   "cell_type": "code",
   "execution_count": null,
   "metadata": {},
   "outputs": [],
   "source": [
    "# if you want to look at specific point in the dataset you can call them with plot_data\n",
    "plt.figure(figsize=(7, 5))\n",
    "x=[0,0]\n",
    "y=[20,-20]\n",
    "\n",
    "plot_data(df_first_peak, 'range 2θ', 'Fit', x,y, plotscale = 'linear')\n",
    "plot_data(df_first_peak, 'range 2θ', 'range Intensity',x,y, legend =False, scatter_plot=False,  plotscale = 'linear' )\n",
    "#plt.savefig(os.path.join(plots_path, \"mittma_00015_FR_second_peak_weird points.png\"))"
   ]
  },
  {
   "cell_type": "code",
   "execution_count": null,
   "metadata": {},
   "outputs": [],
   "source": [
    "# ------------------- calculate shift from reference -------------------\n",
    "\n",
    "ref_peak_pos = 27.807808\n",
    "\n",
    "data= df_first_peak.copy()\n",
    "dat_center = data.iloc[:,data.columns.get_level_values(1)=='Center']\n",
    "dat_center = dat_center.dropna()\n",
    "shift = dat_center.values - ref_peak_pos\n",
    "\n",
    "data = math_on_columns(data, 'Center', type2= ref_peak_pos, operation = \"-\")\n",
    "data.rename(columns={f'Center - {ref_peak_pos}':'Center - Reference'}, inplace = True)"
   ]
  },
  {
   "cell_type": "code",
   "execution_count": null,
   "metadata": {},
   "outputs": [],
   "source": [
    "# calculate spacing \n",
    "lambda_k_alpha1 = 1.54059\n",
    "\n",
    "theta_min=np.radians(45.3/2)\n",
    "theta_max=np.radians(45.7/2)\n",
    "d_calc_min= lambda_k_alpha1/(2*np.sin(theta_min))\n",
    "d_calc_max= lambda_k_alpha1/(2*np.sin(theta_max))\n",
    "d_ref = lambda_k_alpha1/(2*np.sin(np.radians(45.1051/2)))\n",
    "print(d_ref)\n",
    "print(d_calc_min,d_calc_max)\n",
    "print(100*(d_ref-d_calc_min)/d_ref, 100*(d_ref-d_calc_max)/d_ref)"
   ]
  },
  {
   "cell_type": "markdown",
   "metadata": {},
   "source": [
    "### Integrate with EDX data for the same sample"
   ]
  },
  {
   "cell_type": "code",
   "execution_count": null,
   "metadata": {},
   "outputs": [],
   "source": [
    "sample_id = 'mittma_0019' # name of the file to pick up is sample_id_EDS.pkl\n",
    "quarter = 'R' # \n",
    "\n",
    "EDS_pickle_path = r\"Z:\\P110143-phosphosulfides-Andrea\\Data\\Analysis\\guidal\\mittma_pickles\"\n",
    "with open(os.path.join(EDS_pickle_path, f\"{sample_id}_EDS.pkl\"), \"rb\") as openfile:\n",
    "    EDS_data = pickle.load(openfile)\n",
    "\n",
    "display(EDS_data)\n",
    "grid = MI_to_grid(EDS_data)\n",
    "plot_grid(grid,grid)\n",
    "x,y= select_points(EDS_data, x_min=0, y_max=-30)\n",
    "print(x,y)"
   ]
  },
  {
   "cell_type": "code",
   "execution_count": null,
   "metadata": {},
   "outputs": [],
   "source": [
    "if quarter == 'R':\n",
    "    new_x, new_y = select_points(EDS_data, x_min=-10)\n",
    "if quarter == 'L':\n",
    "    new_x, new_y = select_points(EDS_data, x_max =10)\n",
    "if quarter == 'BR':\n",
    "    new_x, new_y = select_points(EDS_data, y_min=-10, x_min=-11, x_max =40, y_max=40)\n",
    "if quarter == 'FR':\n",
    "    new_x, new_y = select_points(EDS_data, y_max=10, x_min=-10)\n",
    "\n",
    "new_coords = list(('{},{}').format(x,y) for x,y in zip(new_x, new_y))\n",
    "#display(new_coords)\n",
    "\n",
    "# EDS_FR, coords = translate_data(EDS_data[new_coords], x=-17, y=17) # if you want to translate the data to the coordinates of 1 square\n",
    "EDS_FR = EDS_data[new_coords] # if you want to keep the full sample coordinates\n",
    "display(EDS_FR)\n",
    "grid = MI_to_grid(EDS_FR)\n",
    "plot_grid(grid,grid)"
   ]
  },
  {
   "cell_type": "code",
   "execution_count": null,
   "metadata": {},
   "outputs": [],
   "source": [
    "#interpolate EDS data to the same grid as XRD data\n",
    "\n",
    "X,Y= extract_coordinates(data_out) # use the df from the XRD data you want to join\n",
    "grid = pd.DataFrame({'x':X, 'y':Y})\n",
    "EDS_interp = interpolate_grid(EDS_FR, grid)\n",
    "# print(EDS_interp.columns.get_level_values(0).unique())\n",
    "display(EDS_interp)\n"
   ]
  },
  {
   "cell_type": "code",
   "execution_count": null,
   "metadata": {},
   "outputs": [],
   "source": [
    "# Find columns (coordinates) where any value is NaN and assign value from closest point\n",
    "nan_coords = [col for col in EDS_interp.columns.levels[0] if EDS_interp[col].isnull().any().any()]\n",
    "other_coords = [col for col in EDS_interp.columns.levels[0] if col not in nan_coords]\n",
    "\n",
    "x_grid, y_grid= extract_coordinates(EDS_interp[other_coords])\n",
    "EDS_grid = pd.DataFrame({'x':x_grid, 'y':y_grid})\n",
    "for col in nan_coords:\n",
    "    x = float(col.split(',')[0])\n",
    "    y = float(col.split(',')[1])\n",
    "    closest_x, closest_y = closest_coord(EDS_grid, x, y)\n",
    "    print(f'missing data at {col}, closest point is {closest_x},{closest_y}')\n",
    "    EDS_interp[col] = EDS_interp[f'{closest_x},{closest_y}']\n",
    "\n",
    "info_array=[]\n",
    "\n",
    "for col in EDS_interp.columns.get_level_values(0).unique():\n",
    "    if col in nan_coords:\n",
    "        info_array.append('assigned from closest point')\n",
    "    elif col not in nan_coords:\n",
    "        info_array.append('measured')\n",
    "info_composition= {'composition': info_array}\n",
    "\n",
    "EDS_interp = add_info(EDS_interp, info_composition)\n",
    "display(get_data(EDS_interp, 'composition'))\n",
    "\n",
    "# heatmap( data= EDS_interp, datatype= \"Layer 1 Cu Atomic %\")\n",
    "new_heatmap('Layer 1 Cu Atomic %', EDS_interp)"
   ]
  },
  {
   "cell_type": "code",
   "execution_count": null,
   "metadata": {},
   "outputs": [],
   "source": [
    "# check if the data is correctly interpolated\n",
    "get_data(EDS_interp, x=8.5, y=8.5)"
   ]
  },
  {
   "cell_type": "code",
   "execution_count": null,
   "metadata": {},
   "outputs": [],
   "source": [
    "#combine the data\n",
    "\n",
    "data_combined = combine_data((new_df, EDS_interp))\n",
    "#to check if the data is combined correctly\n",
    "display(data_combined)\n",
    "# display(get_data(data_combined, x=3, y=20))"
   ]
  },
  {
   "cell_type": "markdown",
   "metadata": {},
   "source": [
    "#### pickle checkpoint"
   ]
  },
  {
   "cell_type": "code",
   "execution_count": null,
   "metadata": {},
   "outputs": [],
   "source": [
    "# save the result in a pickle file, to be used in the ternary plot\n",
    "XRD_pickles_path = r\"Z:\\P110143-phosphosulfides-Andrea\\Data\\Analysis\\guidal\\XRD\\pickles\"\n",
    "\n",
    "with open(os.path.join(XRD_pickles_path, sample+\"new_phases_coords.pkl\"), \"wb\") as openfile:\n",
    "    pickle.dump(data_combined, openfile)\n",
    "\n",
    "# sample = \"mittma_0023_FR\"\n",
    "# with open(os.path.join(XRD_pickles_path, sample+\"new_phases_coords.pkl\"), \"rb\") as f: #new_phases_coords\n",
    "#     data_combined= pickle.load(f)\n",
    "# display(data_combined)"
   ]
  },
  {
   "cell_type": "code",
   "execution_count": null,
   "metadata": {},
   "outputs": [],
   "source": [
    "# plot phases distribution on the sample map\n",
    "x,y = extract_coordinates(data_combined)\n",
    "labels= get_data(data_combined, 'Phase').loc[0].values\n",
    "\n",
    "df_to_plot= pd.DataFrame({'X':x, 'Y':y, 'Phase':labels})\n",
    "import plotly.express as px\n",
    "# title= 'Phases in A-5 mTorr, S-Cracker On - right samples'\n",
    "title= f'Phases in {sample}'\n",
    "fig= px.scatter(df_to_plot, x='X', y='Y', color='Phase', title= title,\n",
    "                width=500, height=400)\n",
    "fig.update_traces(marker=dict(size=20))\n",
    "\n",
    "# fig.write_image(os.path.join(XRD_pickles_path, sample+\"_phases_coords.png\"), scale=2)\n",
    "fig.show()\n"
   ]
  },
  {
   "cell_type": "code",
   "execution_count": null,
   "metadata": {},
   "outputs": [],
   "source": []
  },
  {
   "cell_type": "markdown",
   "metadata": {},
   "source": [
    "#### plot in a ternary plot"
   ]
  },
  {
   "cell_type": "code",
   "execution_count": null,
   "metadata": {},
   "outputs": [],
   "source": [
    "sample= 'Cu-rich'\n",
    "title = f'Phases in {sample} samples'\n",
    "\n",
    "# title= 'Phases in B-15 mTorr, S-Cracker Off - bottom right sample'\n",
    "savepath =os.path.join(XRD_pickles_path, f'{sample}_phases_ternary.html')\n",
    "ternary_discrete(all_B, 'Cu', 'P', 'S', intensity_label='Phase',shape_label='Phase', #composition\n",
    "                         title=title, \n",
    "                         savepath=savepath,\n",
    "                        )"
   ]
  },
  {
   "cell_type": "code",
   "execution_count": null,
   "metadata": {},
   "outputs": [],
   "source": []
  }
 ],
 "metadata": {
  "kernelspec": {
   "display_name": "base",
   "language": "python",
   "name": "python3"
  },
  "language_info": {
   "codemirror_mode": {
    "name": "ipython",
    "version": 3
   },
   "file_extension": ".py",
   "mimetype": "text/x-python",
   "name": "python",
   "nbconvert_exporter": "python",
   "pygments_lexer": "ipython3",
   "version": "3.11.7"
  }
 },
 "nbformat": 4,
 "nbformat_minor": 2
}
