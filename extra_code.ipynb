{
 "cells": [
  {
   "cell_type": "code",
   "execution_count": 7,
   "metadata": {},
   "outputs": [],
   "source": [
    "import os\n",
    "import re\n",
    "import matplotlib.pyplot as plt"
   ]
  },
  {
   "cell_type": "markdown",
   "metadata": {},
   "source": [
    "## EDX coordinates\n",
    "\n",
    "Load .txt file with SE image details into an image_dict. \n",
    "\n",
    "May be useful if you again copy image info"
   ]
  },
  {
   "cell_type": "code",
   "execution_count": 4,
   "metadata": {},
   "outputs": [
    {
     "name": "stdout",
     "output_type": "stream",
     "text": [
      "{1: [-14.587, -15.856], 2: [-14.545, -9.252], 6: [-14.381, 17.161], 7: [-4.982, -15.916], 8: [-4.94, -9.312], 19: [14.228, -16.036], 24: [14.434, 16.982]}\n"
     ]
    }
   ],
   "source": [
    "file_path = r\"Z:\\P110143-phosphosulfides-Andrea\\Data\\Samples\\anait_0004_Ba\\EDX\\anait_0004_BL\\coordinates.txt\"\n",
    "# Initialize a dictionary to store the data\n",
    "image_dict = {}\n",
    "\n",
    "# Regular expressions to capture the relevant lines\n",
    "image_pattern = re.compile(r'Label:\\s*Electron Image (\\d+)')\n",
    "stage_x_pattern = re.compile(r'Stage X:\\s*([-+]?[0-9]*\\.?[0-9]+)mm')\n",
    "stage_y_pattern = re.compile(r'Stage Y:\\s*([-+]?[0-9]*\\.?[0-9]+)mm')\n",
    "\n",
    "# Variables to temporarily store the current image and its coordinates\n",
    "current_image = None\n",
    "x_coordinate = None\n",
    "y_coordinate = None\n",
    "\n",
    "# Read the file and extract the data\n",
    "with open(file_path, 'r') as file:\n",
    "    for line in file:\n",
    "        # Find image number\n",
    "        image_match = image_pattern.search(line)\n",
    "        if image_match:\n",
    "            # If we have a previous image and its coordinates, store them in the dictionary\n",
    "            if current_image is not None and x_coordinate is not None and y_coordinate is not None:\n",
    "                image_dict[current_image] = [x_coordinate, y_coordinate]\n",
    "\n",
    "            # Start a new image\n",
    "            current_image = int(image_match.group(1))\n",
    "            x_coordinate = None\n",
    "            y_coordinate = None\n",
    "\n",
    "        # Find Stage X\n",
    "        stage_x_match = stage_x_pattern.search(line)\n",
    "        if stage_x_match:\n",
    "            x_coordinate = float(stage_x_match.group(1))\n",
    "\n",
    "        # Find Stage Y\n",
    "        stage_y_match = stage_y_pattern.search(line)\n",
    "        if stage_y_match:\n",
    "            y_coordinate = float(stage_y_match.group(1))\n",
    "\n",
    "    # Store the last image and its coordinates after exiting the loop\n",
    "    if current_image is not None and x_coordinate is not None and y_coordinate is not None:\n",
    "        image_dict[current_image] = [x_coordinate, y_coordinate]\n",
    "\n",
    "# Show the dictionary\n",
    "print(image_dict)\n"
   ]
  },
  {
   "cell_type": "code",
   "execution_count": 11,
   "metadata": {},
   "outputs": [],
   "source": [
    "# save info from images 1-2-7\n",
    "ncolumns = 4\n",
    "nrows = 6\n",
    "mag= 30000\n",
    "\n",
    "#accurate \"grid vectors\"\n",
    "a = [image_dict[7][0] - image_dict[1][0], image_dict[7][1] - image_dict[1][1]]\n",
    "b = [image_dict[2][0] - image_dict[1][0], image_dict[2][1] - image_dict[1][1]]\n",
    "\n",
    "# grid vectors from first corner\n",
    "space_x = image_dict[7][0] - image_dict[1][0]\n",
    "space_y = image_dict[2][1] - image_dict[1][1]\n",
    "\n",
    "#grid vectors from furthest points\n",
    "spacing_x = (image_dict[19][0] - image_dict[1][0])/(ncolumns-1)\n",
    "spacing_y = (image_dict[6][1] - image_dict[1][1])/(nrows-1)\n",
    "\n",
    "#grid vector from point 24, making a square\n",
    "size_x = image_dict[24][0] - image_dict[1][0]\n",
    "size_y = image_dict[24][1] - image_dict[1][1]\n",
    "spacex_div = size_x/(ncolumns-1)\n",
    "spacey_div = size_y/(nrows-1)\n",
    "\n",
    "startx= image_dict[1][0]\n",
    "starty= image_dict[1][1]\n",
    "\n",
    "area_x = 13.7*30/mag\n",
    "area_y = 9.4*30/mag\n",
    "\n",
    "x,y=[],[]\n",
    "for key in image_dict:\n",
    "    x.append(image_dict[key][0])\n",
    "    y.append(image_dict[key][1])\n",
    "\n"
   ]
  },
  {
   "cell_type": "code",
   "execution_count": 10,
   "metadata": {},
   "outputs": [
    {
     "data": {
      "text/plain": [
       "Text(0, 0.5, 'Y coordinate (mm)')"
      ]
     },
     "execution_count": 10,
     "metadata": {},
     "output_type": "execute_result"
    },
    {
     "data": {
      "image/png": "[encoded data removed]",
      "text/plain": [
       "<Figure size 640x480 with 1 Axes>"
      ]
     },
     "metadata": {},
     "output_type": "display_data"
    }
   ],
   "source": [
    "#plt.scatter(X_1619, Y_1619, color='green', label=\"Calculated from furthest points\", s=100)\n",
    "plt.scatter(x, y, color='blue', label=\"Measured\", s=100)\n",
    "# plt.scatter(X_127, Y_127, color='red', marker='*', label=\"Calculated from images 1-2-7\", s=100) # as in EDX_stage_coords\n",
    "#plt.scatter(X_24, Y_24, color='pink', marker='x', label=\"Calculated from image 24\", s=50)\n",
    "plt.legend(bbox_to_anchor=(1.05, 1), loc='upper left', borderaxespad=0.)\n",
    "plt.xlabel(\"X coordinate (mm)\")\n",
    "plt.ylabel(\"Y coordinate (mm)\")"
   ]
  },
  {
   "cell_type": "code",
   "execution_count": null,
   "metadata": {},
   "outputs": [],
   "source": []
  },
  {
   "cell_type": "markdown",
   "metadata": {},
   "source": [
    "### XRD integrate with edx"
   ]
  },
  {
   "cell_type": "code",
   "execution_count": null,
   "metadata": {},
   "outputs": [],
   "source": [
    "def add_info2(data, info_dict):\n",
    "    \"\"\"Function to add information to a dataset for each point.\"\"\"\n",
    "    info_type = list(info_dict.keys())[0]\n",
    "    headerlength = len(data.columns.get_level_values(1).unique())\n",
    "    coords= data.columns.get_level_values(0).unique()\n",
    "    k=0\n",
    "    new_data = data.copy()\n",
    "    for i in range(0, len(coords)):\n",
    "        #print(coords[i])\n",
    "        new_df = pd.DataFrame([info_dict[info_type][i]], columns =[(coords[i], info_type)])\n",
    "            \n",
    "        new_data.insert(headerlength*(i+1)+k, \"{}\".format(data.columns.get_level_values(0).unique()[i]), new_df, allow_duplicates=True)\n",
    "        new_data.rename(columns={'':  f'{info_type}'}, inplace = True)\n",
    "\n",
    "        k=k+len(new_df.columns)\n",
    "                \n",
    "    new_frame = new_data.copy()\n",
    "\n",
    "    return new_frame"
   ]
  },
  {
   "cell_type": "code",
   "execution_count": null,
   "metadata": {},
   "outputs": [],
   "source": [
    "\n",
    "sample_23= 'mittma_0023_BL_2D_phases_coords'\n",
    "with open(os.path.join(XRD_pickles_path, sample_23+\".pkl\"), \"rb\") as openfile:\n",
    "    data_23_BL = pickle.load(openfile)\n",
    "\n",
    "# data_23_BL.drop(columns= '2θ (°)', level=1, inplace=True)\n",
    "# data_23_BL.drop(columns= 'Intensity, cps', level=1, inplace=True)\n",
    "# data_23_BL.drop(columns= 'Background', level=1, inplace=True)\n",
    "# data_23_BL.drop(columns= 'Corrected Intensity', level=1, inplace=True)\n",
    "\n",
    "dict_to_add = {'sample': ['23_BL']*len(data_23_BL.columns.get_level_values(0).unique())}\n",
    "# print(dict_to_add)\n",
    "# print(len(dict_to_add['sample']))\n",
    "# print(len(data_23_BL.columns.get_level_values(0).unique()))\n",
    "\n",
    "# AAA = add_info(data_23_BL, dict_to_add)\n",
    "# dat_23_BL = add_info2(data_23_BL, {'Sample': [23]*len(data_23_BL.columns.levels[0].unique())})\n",
    "\n",
    "\n",
    "\n",
    "sample_22= 'mittma_0022_FRnew_phases_coords'\n",
    "with open(os.path.join(XRD_pickles_path, sample_22+\".pkl\"), \"rb\") as openfile:\n",
    "    data_22_FR = pickle.load(openfile)\n",
    "\n",
    "# data_22_FR.drop(columns= '2θ (°)', level=1, inplace=True)\n",
    "# data_22_FR.drop(columns= 'Intensity, cps', level=1, inplace=True)\n",
    "# data_22_FR.drop(columns= 'Background', level=1, inplace=True)\n",
    "# data_22_FR.drop(columns= 'Corrected Intensity', level=1, inplace=True)\n",
    "\n",
    "# dict_to_add_2 = {'sample': ['22_FR']*len(data_22_FR.columns.levels[0].unique())}\n",
    "# print(dict_to_add_2)\n",
    "# data_22_FR= add_info(data_22_FR, dict_to_add_2)\n",
    "\n",
    "all_B = combine_data([data_combined, data_22_FR, data_23_BL])\n",
    "\n",
    "display(all_B)"
   ]
  }
 ],
 "metadata": {
  "kernelspec": {
   "display_name": "base",
   "language": "python",
   "name": "python3"
  },
  "language_info": {
   "codemirror_mode": {
    "name": "ipython",
    "version": 3
   },
   "file_extension": ".py",
   "mimetype": "text/x-python",
   "name": "python",
   "nbconvert_exporter": "python",
   "pygments_lexer": "ipython3",
   "version": "3.11.7"
  }
 },
 "nbformat": 4,
 "nbformat_minor": 2
}
